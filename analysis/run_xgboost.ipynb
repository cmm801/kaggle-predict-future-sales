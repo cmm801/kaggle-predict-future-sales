{
 "cells": [
  {
   "cell_type": "code",
   "execution_count": 37,
   "metadata": {},
   "outputs": [],
   "source": [
    "import numpy as np\n",
    "import pandas as pd\n",
    "import random as rd\n",
    "import datetime\n",
    "import os\n",
    "\n",
    "import matplotlib.pyplot as plt\n",
    "import seaborn as sns\n",
    "\n",
    "import scipy.sparse.csr\n",
    "\n",
    "from sklearn.preprocessing import LabelBinarizer\n",
    "from sklearn.linear_model import LinearRegression, Ridge\n",
    "\n",
    "from xgboost import XGBRegressor\n",
    "\n",
    "import importlib\n",
    "import kaggle_forecast \n",
    "import config \n",
    "\n",
    "importlib.reload( kaggle_forecast )\n",
    "importlib.reload( config )\n",
    "\n",
    "from kaggle_forecast import *\n",
    "from config import *"
   ]
  },
  {
   "cell_type": "code",
   "execution_count": 2,
   "metadata": {},
   "outputs": [
    {
     "name": "stdout",
     "output_type": "stream",
     "text": [
      "CPU times: user 3min 39s, sys: 3.56 s, total: 3min 43s\n",
      "Wall time: 3min 47s\n"
     ]
    }
   ],
   "source": [
    "%%time\n",
    "kg = KaggleData()"
   ]
  },
  {
   "cell_type": "code",
   "execution_count": 4,
   "metadata": {},
   "outputs": [],
   "source": [
    "features = { 'lag' : [1, 2, 3, 4, 5, 6, 9, 12], 'mean' : [2, 3, 4, 5, 6, 9, 12], 'shop_id' : [], 'item_id' : [], 'shop_item_id' : [], \\\n",
    "             'cat_id' : [], 'date_block_num' : [], 'month' : [], 'year' : [] }\n",
    "\n",
    "X, Y = get_labels_and_features( kg, features=features )\n",
    "\n",
    "# Get the combined features in matrix form for the train, validation and test sets\n",
    "xx_raw, yy_raw = combine_features( X, Y )\n"
   ]
  },
  {
   "cell_type": "code",
   "execution_count": 16,
   "metadata": {},
   "outputs": [],
   "source": [
    "# Create Pandas Data Frames from the numpy matrices\n",
    "df_dict = dict()\n",
    "labels = xx_raw[DESC]\n",
    "for ds in [ TRAIN, VALID, TEST ]:\n",
    "    df_dict[ds] = pd.DataFrame( np.hstack( [ xx_raw[ds], yy_raw[ds] ] ), columns = xx_raw[DESC] + [TARGET_COL] )\n"
   ]
  },
  {
   "cell_type": "code",
   "execution_count": 17,
   "metadata": {},
   "outputs": [],
   "source": [
    "# Only keep the data after a certain observation month\n",
    "date_block_cutoff = 30\n",
    "for ds in [ TRAIN, VALID, TEST ]:\n",
    "    df_dict[ds] = get_recent_data( df_dict[ds], date_block_cutoff=date_block_cutoff )\n"
   ]
  },
  {
   "cell_type": "code",
   "execution_count": 18,
   "metadata": {},
   "outputs": [],
   "source": [
    "# Clip the historical sales into the interval [0,20]\n",
    "lower_limit = 0\n",
    "upper_limit = 20\n",
    "for ds in [ TRAIN, VALID ]:\n",
    "    df_dict[ds][TARGET_COL] = np.maximum( lower_limit, df_dict[ds][TARGET_COL] )\n",
    "    df_dict[ds][TARGET_COL] = np.minimum( upper_limit, df_dict[ds][TARGET_COL] )    \n"
   ]
  },
  {
   "cell_type": "code",
   "execution_count": 19,
   "metadata": {},
   "outputs": [
    {
     "data": {
      "text/plain": [
       "['sales_lag_01',\n",
       " 'sales_lag_02',\n",
       " 'sales_lag_03',\n",
       " 'sales_lag_04',\n",
       " 'sales_lag_05',\n",
       " 'sales_lag_06',\n",
       " 'sales_lag_09',\n",
       " 'sales_lag_12',\n",
       " 'sales_mean_02',\n",
       " 'sales_mean_03',\n",
       " 'sales_mean_04',\n",
       " 'sales_mean_05',\n",
       " 'sales_mean_06',\n",
       " 'sales_mean_09',\n",
       " 'sales_mean_12']"
      ]
     },
     "execution_count": 19,
     "metadata": {},
     "output_type": "execute_result"
    }
   ],
   "source": []
  },
  {
   "cell_type": "code",
   "execution_count": 20,
   "metadata": {},
   "outputs": [
    {
     "name": "stdout",
     "output_type": "stream",
     "text": [
      "2019-07-03 07:39:22.763513 : sales_lag_01_mean_item_id\n",
      "2019-07-03 07:39:25.416380 : sales_lag_01_mean_shop_id\n",
      "2019-07-03 07:39:26.891755 : sales_lag_01_mean_cat_id\n",
      "2019-07-03 07:39:28.364106 : sales_lag_01_mean_shop_item_id\n",
      "2019-07-03 07:39:44.981384 : sales_lag_01_mean_date_block_num\n",
      "2019-07-03 07:39:46.497446 : sales_lag_01_mean_month\n",
      "2019-07-03 07:39:48.025670 : sales_lag_02_mean_item_id\n",
      "2019-07-03 07:39:50.339913 : sales_lag_02_mean_shop_id\n",
      "2019-07-03 07:39:51.947855 : sales_lag_02_mean_cat_id\n",
      "2019-07-03 07:39:53.555338 : sales_lag_02_mean_shop_item_id\n",
      "2019-07-03 07:40:10.225440 : sales_lag_02_mean_date_block_num\n",
      "2019-07-03 07:40:11.866850 : sales_lag_02_mean_month\n",
      "2019-07-03 07:40:13.545082 : sales_lag_03_mean_item_id\n",
      "2019-07-03 07:40:15.979912 : sales_lag_03_mean_shop_id\n",
      "2019-07-03 07:40:17.733602 : sales_lag_03_mean_cat_id\n",
      "2019-07-03 07:40:19.496733 : sales_lag_03_mean_shop_item_id\n",
      "2019-07-03 07:40:36.355415 : sales_lag_03_mean_date_block_num\n",
      "2019-07-03 07:40:38.149744 : sales_lag_03_mean_month\n",
      "2019-07-03 07:40:39.996981 : sales_lag_04_mean_item_id\n",
      "2019-07-03 07:40:42.606739 : sales_lag_04_mean_shop_id\n",
      "2019-07-03 07:40:44.530317 : sales_lag_04_mean_cat_id\n",
      "2019-07-03 07:40:46.462732 : sales_lag_04_mean_shop_item_id\n",
      "2019-07-03 07:41:03.468090 : sales_lag_04_mean_date_block_num\n",
      "2019-07-03 07:41:05.401637 : sales_lag_04_mean_month\n",
      "2019-07-03 07:41:07.383271 : sales_lag_05_mean_item_id\n",
      "2019-07-03 07:41:10.176187 : sales_lag_05_mean_shop_id\n",
      "2019-07-03 07:41:12.241099 : sales_lag_05_mean_cat_id\n",
      "2019-07-03 07:41:14.325852 : sales_lag_05_mean_shop_item_id\n",
      "2019-07-03 07:41:31.394285 : sales_lag_05_mean_date_block_num\n",
      "2019-07-03 07:41:33.510996 : sales_lag_05_mean_month\n",
      "2019-07-03 07:41:35.643424 : sales_lag_06_mean_item_id\n",
      "2019-07-03 07:41:38.568849 : sales_lag_06_mean_shop_id\n",
      "2019-07-03 07:41:40.797325 : sales_lag_06_mean_cat_id\n",
      "2019-07-03 07:41:43.039040 : sales_lag_06_mean_shop_item_id\n",
      "2019-07-03 07:42:00.409788 : sales_lag_06_mean_date_block_num\n",
      "2019-07-03 07:42:02.655842 : sales_lag_06_mean_month\n",
      "2019-07-03 07:42:04.868785 : sales_lag_09_mean_item_id\n",
      "2019-07-03 07:42:07.859998 : sales_lag_09_mean_shop_id\n",
      "2019-07-03 07:42:10.165036 : sales_lag_09_mean_cat_id\n",
      "2019-07-03 07:42:12.467706 : sales_lag_09_mean_shop_item_id\n",
      "2019-07-03 07:42:29.705533 : sales_lag_09_mean_date_block_num\n",
      "2019-07-03 07:42:32.116718 : sales_lag_09_mean_month\n",
      "2019-07-03 07:42:34.516523 : sales_lag_12_mean_item_id\n",
      "2019-07-03 07:42:37.695387 : sales_lag_12_mean_shop_id\n",
      "2019-07-03 07:42:40.182918 : sales_lag_12_mean_cat_id\n",
      "2019-07-03 07:42:42.668738 : sales_lag_12_mean_shop_item_id\n",
      "2019-07-03 07:43:00.106282 : sales_lag_12_mean_date_block_num\n",
      "2019-07-03 07:43:02.667058 : sales_lag_12_mean_month\n",
      "2019-07-03 07:43:05.238252 : sales_mean_02_mean_item_id\n",
      "2019-07-03 07:43:08.573794 : sales_mean_02_mean_shop_id\n",
      "2019-07-03 07:43:11.181984 : sales_mean_02_mean_cat_id\n",
      "2019-07-03 07:43:13.799003 : sales_mean_02_mean_shop_item_id\n",
      "2019-07-03 07:43:31.413831 : sales_mean_02_mean_date_block_num\n",
      "2019-07-03 07:43:34.121894 : sales_mean_02_mean_month\n",
      "2019-07-03 07:43:36.837964 : sales_mean_03_mean_item_id\n",
      "2019-07-03 07:43:40.358254 : sales_mean_03_mean_shop_id\n",
      "2019-07-03 07:43:43.187299 : sales_mean_03_mean_cat_id\n",
      "2019-07-03 07:43:45.959517 : sales_mean_03_mean_shop_item_id\n",
      "2019-07-03 07:44:03.695503 : sales_mean_03_mean_date_block_num\n",
      "2019-07-03 07:44:06.491564 : sales_mean_03_mean_month\n",
      "2019-07-03 07:44:09.291347 : sales_mean_04_mean_item_id\n",
      "2019-07-03 07:44:12.886970 : sales_mean_04_mean_shop_id\n",
      "2019-07-03 07:44:15.827125 : sales_mean_04_mean_cat_id\n",
      "2019-07-03 07:44:18.817905 : sales_mean_04_mean_shop_item_id\n",
      "2019-07-03 07:44:36.921031 : sales_mean_04_mean_date_block_num\n",
      "2019-07-03 07:44:39.932985 : sales_mean_04_mean_month\n",
      "2019-07-03 07:44:42.960880 : sales_mean_05_mean_item_id\n",
      "2019-07-03 07:44:46.781045 : sales_mean_05_mean_shop_id\n",
      "2019-07-03 07:44:49.900540 : sales_mean_05_mean_cat_id\n",
      "2019-07-03 07:44:53.047290 : sales_mean_05_mean_shop_item_id\n",
      "2019-07-03 07:45:11.079310 : sales_mean_05_mean_date_block_num\n",
      "2019-07-03 07:45:14.236992 : sales_mean_05_mean_month\n",
      "2019-07-03 07:45:17.415495 : sales_mean_06_mean_item_id\n",
      "2019-07-03 07:45:21.374129 : sales_mean_06_mean_shop_id\n",
      "2019-07-03 07:45:24.637078 : sales_mean_06_mean_cat_id\n",
      "2019-07-03 07:45:27.881138 : sales_mean_06_mean_shop_item_id\n",
      "2019-07-03 07:45:46.012407 : sales_mean_06_mean_date_block_num\n",
      "2019-07-03 07:45:49.279730 : sales_mean_06_mean_month\n",
      "2019-07-03 07:45:52.543796 : sales_mean_09_mean_item_id\n",
      "2019-07-03 07:45:56.615035 : sales_mean_09_mean_shop_id\n",
      "2019-07-03 07:45:59.979669 : sales_mean_09_mean_cat_id\n",
      "2019-07-03 07:46:03.357221 : sales_mean_09_mean_shop_item_id\n",
      "2019-07-03 07:46:21.640963 : sales_mean_09_mean_date_block_num\n",
      "2019-07-03 07:46:25.044607 : sales_mean_09_mean_month\n",
      "2019-07-03 07:46:28.465360 : sales_mean_12_mean_item_id\n",
      "2019-07-03 07:46:32.688361 : sales_mean_12_mean_shop_id\n",
      "2019-07-03 07:46:36.209196 : sales_mean_12_mean_cat_id\n",
      "2019-07-03 07:46:39.734546 : sales_mean_12_mean_shop_item_id\n",
      "2019-07-03 07:46:58.213403 : sales_mean_12_mean_date_block_num\n",
      "2019-07-03 07:47:01.756674 : sales_mean_12_mean_month\n"
     ]
    }
   ],
   "source": [
    "alpha = 5\n",
    "n_splits = 5\n",
    "target_cols = list( df_dict[TRAIN].columns[ [ x.startswith( 'sales_' ) for x in df_dict[TRAIN].columns ] ] )\n",
    "group_cols = [ 'item_id', 'shop_id', 'cat_id', 'shop_item_id', 'date_block_num', 'month' ]\n",
    "\n",
    "for target_col in target_cols:\n",
    "    for group_col in group_cols:\n",
    "\n",
    "        new_col_name = target_col + '_mean_' + group_col\n",
    "        print('{}'.format(datetime.datetime.now()) + ' : ' + new_col_name )\n",
    "\n",
    "        if new_col_name not in df_dict[TRAIN]:\n",
    "            df_dict[TRAIN][new_col_name] = encode_means_with_cv( df_dict[TRAIN], \\\n",
    "                                        target_col=target_col, group_col=group_col, n_splits=n_splits ).to_numpy()\n",
    "\n",
    "        if new_col_name not in df_dict[VALID]:\n",
    "            df_dict[VALID][new_col_name] = encode_means_from_test_train_split( df_dict[TRAIN], df_dict[VALID], \\\n",
    "                                        target_col=target_col, group_col=group_col)    \n",
    "\n",
    "        if new_col_name not in df_dict[TEST]:\n",
    "            test_data = pd.concat( [ df_dict[TRAIN], df_dict[VALID] ])                \n",
    "            df_dict[TEST][new_col_name] = encode_means_from_test_train_split( test_data, df_dict[VALID], \\\n",
    "                                        target_col=target_col, group_col=group_col)            \n"
   ]
  },
  {
   "cell_type": "code",
   "execution_count": 21,
   "metadata": {},
   "outputs": [
    {
     "name": "stdout",
     "output_type": "stream",
     "text": [
      "2019-07-03 07:47:32.483530 : 50\n",
      "[07:47:33] WARNING: /workspace/src/objective/regression_obj.cu:152: reg:linear is now deprecated in favor of reg:squarederror.\n",
      "valid RMSE 0.7388026153270856\n",
      "2019-07-03 07:47:58.999150\n"
     ]
    }
   ],
   "source": [
    "n_estimators = 50\n",
    "max_depth = 4           # No lower than 3. Increase until performance stops improving\n",
    "learning_rate = 0.05    # Keep in the range of 0.01 and 0.1\n",
    "gamma = 5               # Regularization parameter: use value 0, 1, or 5\n",
    "colsample_bytree = 0.2  # Between 0.3 and 0.8 when dataset has many columns\n",
    "\n",
    "print('{} : {}'.format(datetime.datetime.now(), n_estimators  ) )\n",
    "# Construct the model\n",
    "model_constructor_fun = lambda : XGBRegressor( n_estimators=n_estimators, \\\n",
    "                                               gamma=gamma, \\\n",
    "                                               colsample_bytree=colsample_bytree,\\\n",
    "                                               max_depth=max_depth, \\\n",
    "                                               learning_rate=learning_rate )\n",
    "\n",
    "model_train = fit_model( model_constructor_fun, TRAIN, df_dict )\n",
    "\n",
    "# Check the out-of-sample fit for the validation set\n",
    "yhat_valid = predict_model( model_train, VALID, df_dict, clip_forecasts=(0,20) )\n",
    "\n",
    "print('{}'.format(datetime.datetime.now()  ) )"
   ]
  },
  {
   "cell_type": "code",
   "execution_count": 22,
   "metadata": {},
   "outputs": [
    {
     "name": "stdout",
     "output_type": "stream",
     "text": [
      "[07:49:56] WARNING: /workspace/src/objective/regression_obj.cu:152: reg:linear is now deprecated in favor of reg:squarederror.\n",
      "test RMSE nan\n"
     ]
    }
   ],
   "source": [
    "model_test = fit_model( model_constructor_fun, TEST, df_dict )\n",
    "\n",
    "# Check the out-of-sample fit for the test set\n",
    "yhat_test = predict_model( model_test, TEST, df_dict, clip_forecasts=(0,20) )\n"
   ]
  },
  {
   "cell_type": "code",
   "execution_count": 38,
   "metadata": {},
   "outputs": [],
   "source": [
    "output_file = 'xgboost_04.csv'\n",
    "write_forecast_to_csv( kg, yhat_test, output_file )"
   ]
  },
  {
   "cell_type": "code",
   "execution_count": 41,
   "metadata": {},
   "outputs": [
    {
     "ename": "ImportError",
     "evalue": "/home/ubuntu/projects/.env/lib/python3.6/site-packages/catboost/_catboost.so: cannot make segment writable for relocation: Cannot allocate memory",
     "output_type": "error",
     "traceback": [
      "\u001b[0;31m---------------------------------------------------------------------------\u001b[0m",
      "\u001b[0;31mImportError\u001b[0m                               Traceback (most recent call last)",
      "\u001b[0;32m<ipython-input-41-4c4156b93204>\u001b[0m in \u001b[0;36m<module>\u001b[0;34m\u001b[0m\n\u001b[0;32m----> 1\u001b[0;31m \u001b[0;32mimport\u001b[0m \u001b[0mcatboost\u001b[0m\u001b[0;34m\u001b[0m\u001b[0;34m\u001b[0m\u001b[0m\n\u001b[0m",
      "\u001b[0;32m~/projects/.env/lib/python3.6/site-packages/catboost/__init__.py\u001b[0m in \u001b[0;36m<module>\u001b[0;34m\u001b[0m\n\u001b[0;32m----> 1\u001b[0;31m \u001b[0;32mfrom\u001b[0m \u001b[0;34m.\u001b[0m\u001b[0mcore\u001b[0m \u001b[0;32mimport\u001b[0m \u001b[0mFeaturesData\u001b[0m\u001b[0;34m,\u001b[0m \u001b[0mEFstrType\u001b[0m\u001b[0;34m,\u001b[0m \u001b[0mPool\u001b[0m\u001b[0;34m,\u001b[0m \u001b[0mCatBoost\u001b[0m\u001b[0;34m,\u001b[0m \u001b[0mCatBoostClassifier\u001b[0m\u001b[0;34m,\u001b[0m \u001b[0mCatBoostRegressor\u001b[0m\u001b[0;34m,\u001b[0m \u001b[0mCatBoostError\u001b[0m\u001b[0;34m,\u001b[0m \u001b[0mcv\u001b[0m\u001b[0;34m,\u001b[0m \u001b[0mtrain\u001b[0m\u001b[0;34m,\u001b[0m \u001b[0msum_models\u001b[0m  \u001b[0;31m# noqa\u001b[0m\u001b[0;34m\u001b[0m\u001b[0;34m\u001b[0m\u001b[0m\n\u001b[0m\u001b[1;32m      2\u001b[0m \u001b[0;32mfrom\u001b[0m \u001b[0;34m.\u001b[0m\u001b[0mversion\u001b[0m \u001b[0;32mimport\u001b[0m \u001b[0mVERSION\u001b[0m \u001b[0;32mas\u001b[0m \u001b[0m__version__\u001b[0m  \u001b[0;31m# noqa\u001b[0m\u001b[0;34m\u001b[0m\u001b[0;34m\u001b[0m\u001b[0m\n\u001b[1;32m      3\u001b[0m \u001b[0m__all__\u001b[0m \u001b[0;34m=\u001b[0m \u001b[0;34m[\u001b[0m\u001b[0;34m'FeaturesData'\u001b[0m\u001b[0;34m,\u001b[0m \u001b[0;34m'EFstrType'\u001b[0m\u001b[0;34m,\u001b[0m \u001b[0;34m'Pool'\u001b[0m\u001b[0;34m,\u001b[0m \u001b[0;34m'CatBoost'\u001b[0m\u001b[0;34m,\u001b[0m \u001b[0;34m'CatBoostClassifier'\u001b[0m\u001b[0;34m,\u001b[0m \u001b[0;34m'CatBoostRegressor'\u001b[0m\u001b[0;34m,\u001b[0m \u001b[0;34m'CatBoostError'\u001b[0m\u001b[0;34m,\u001b[0m \u001b[0;34m'CatboostError'\u001b[0m\u001b[0;34m,\u001b[0m \u001b[0;34m'cv'\u001b[0m\u001b[0;34m,\u001b[0m \u001b[0;34m'train'\u001b[0m\u001b[0;34m,\u001b[0m \u001b[0;34m'sum_models'\u001b[0m\u001b[0;34m]\u001b[0m\u001b[0;34m\u001b[0m\u001b[0;34m\u001b[0m\u001b[0m\n\u001b[1;32m      4\u001b[0m \u001b[0;34m\u001b[0m\u001b[0m\n\u001b[1;32m      5\u001b[0m \u001b[0;31m# API compatibility alias.\u001b[0m\u001b[0;34m\u001b[0m\u001b[0;34m\u001b[0m\u001b[0;34m\u001b[0m\u001b[0m\n",
      "\u001b[0;32m~/projects/.env/lib/python3.6/site-packages/catboost/core.py\u001b[0m in \u001b[0;36m<module>\u001b[0;34m\u001b[0m\n\u001b[1;32m     58\u001b[0m \u001b[0;34m\u001b[0m\u001b[0m\n\u001b[1;32m     59\u001b[0m \u001b[0;34m\u001b[0m\u001b[0m\n\u001b[0;32m---> 60\u001b[0;31m \u001b[0m_catboost\u001b[0m \u001b[0;34m=\u001b[0m \u001b[0mget_catboost_bin_module\u001b[0m\u001b[0;34m(\u001b[0m\u001b[0;34m)\u001b[0m\u001b[0;34m\u001b[0m\u001b[0;34m\u001b[0m\u001b[0m\n\u001b[0m\u001b[1;32m     61\u001b[0m \u001b[0m_PoolBase\u001b[0m \u001b[0;34m=\u001b[0m \u001b[0m_catboost\u001b[0m\u001b[0;34m.\u001b[0m\u001b[0m_PoolBase\u001b[0m\u001b[0;34m\u001b[0m\u001b[0;34m\u001b[0m\u001b[0m\n\u001b[1;32m     62\u001b[0m \u001b[0m_CatBoost\u001b[0m \u001b[0;34m=\u001b[0m \u001b[0m_catboost\u001b[0m\u001b[0;34m.\u001b[0m\u001b[0m_CatBoost\u001b[0m\u001b[0;34m\u001b[0m\u001b[0;34m\u001b[0m\u001b[0m\n",
      "\u001b[0;32m~/projects/.env/lib/python3.6/site-packages/catboost/core.py\u001b[0m in \u001b[0;36mget_catboost_bin_module\u001b[0;34m()\u001b[0m\n\u001b[1;32m     54\u001b[0m         \u001b[0;32mexcept\u001b[0m \u001b[0mImportError\u001b[0m\u001b[0;34m:\u001b[0m\u001b[0;34m\u001b[0m\u001b[0;34m\u001b[0m\u001b[0m\n\u001b[1;32m     55\u001b[0m             \u001b[0;32mpass\u001b[0m\u001b[0;34m\u001b[0m\u001b[0;34m\u001b[0m\u001b[0m\n\u001b[0;32m---> 56\u001b[0;31m     \u001b[0;32mfrom\u001b[0m \u001b[0;34m.\u001b[0m \u001b[0;32mimport\u001b[0m \u001b[0m_catboost\u001b[0m\u001b[0;34m\u001b[0m\u001b[0;34m\u001b[0m\u001b[0m\n\u001b[0m\u001b[1;32m     57\u001b[0m     \u001b[0;32mreturn\u001b[0m \u001b[0m_catboost\u001b[0m\u001b[0;34m\u001b[0m\u001b[0;34m\u001b[0m\u001b[0m\n\u001b[1;32m     58\u001b[0m \u001b[0;34m\u001b[0m\u001b[0m\n",
      "\u001b[0;31mImportError\u001b[0m: /home/ubuntu/projects/.env/lib/python3.6/site-packages/catboost/_catboost.so: cannot make segment writable for relocation: Cannot allocate memory"
     ]
    }
   ],
   "source": []
  },
  {
   "cell_type": "code",
   "execution_count": null,
   "metadata": {},
   "outputs": [],
   "source": []
  },
  {
   "cell_type": "code",
   "execution_count": null,
   "metadata": {},
   "outputs": [],
   "source": []
  },
  {
   "cell_type": "code",
   "execution_count": null,
   "metadata": {},
   "outputs": [],
   "source": []
  }
 ],
 "metadata": {
  "kernelspec": {
   "display_name": "Python 3",
   "language": "python",
   "name": "python3"
  },
  "language_info": {
   "codemirror_mode": {
    "name": "ipython",
    "version": 3
   },
   "file_extension": ".py",
   "mimetype": "text/x-python",
   "name": "python",
   "nbconvert_exporter": "python",
   "pygments_lexer": "ipython3",
   "version": "3.6.8"
  }
 },
 "nbformat": 4,
 "nbformat_minor": 2
}
