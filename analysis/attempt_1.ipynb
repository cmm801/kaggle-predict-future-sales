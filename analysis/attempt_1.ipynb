{
 "cells": [
  {
   "cell_type": "code",
   "execution_count": 1,
   "metadata": {},
   "outputs": [],
   "source": [
    "import numpy as np\n",
    "import pandas as pd\n",
    "import random as rd\n",
    "import datetime\n",
    "\n",
    "import matplotlib.pyplot as plt\n",
    "import seaborn as sns"
   ]
  },
  {
   "cell_type": "code",
   "execution_count": 2,
   "metadata": {},
   "outputs": [],
   "source": [
    "# Import all csv file data\n",
    "\n",
    "sales = pd.read_csv( 'data/sales_train.csv')\n",
    "\n",
    "# Warnings\n",
    "import warnings\n",
    "warnings.filterwarnings('ignore')\n",
    "\n",
    "item_cat = pd.read_csv( 'data/item_categories.csv')\n",
    "item = pd.read_csv( 'data/items.csv')\n",
    "sub = pd.read_csv( 'data/sample_submission.csv')\n",
    "shops = pd.read_csv( 'data/shops.csv')\n",
    "test = pd.read_csv( 'data/test.csv')"
   ]
  },
  {
   "cell_type": "code",
   "execution_count": 3,
   "metadata": {},
   "outputs": [],
   "source": [
    "# Reformat the date column\n",
    "sales.date = sales.date.apply( lambda x: datetime.datetime.strptime( x, '%d.%m.%Y' ) )\n",
    "\n",
    "# Add month and year columns\n",
    "sales['month'] = [ x.month for x in sales.date ]\n",
    "sales['year'] = [ x.year for x in sales.date ]\n",
    "sales['year_month'] = sales.year * 100 + sales.month\n",
    "\n",
    "# Add the item_category_id to the training set\n",
    "sales = sales.set_index('item_id').join(item.set_index('item_id')).drop('item_name', axis=1).reset_index()\n",
    "test = test.set_index('item_id').join(item.set_index('item_id')).drop('item_name', axis=1).reset_index()\n",
    "\n",
    "# Add a unique id for the shop + item combo\n",
    "sales['shop_item_id'] = sales.shop_id + sales.item_id * 100\n",
    "test['shop_item_id'] = test.shop_id + test.item_id * 100\n",
    "sales['shop_cat_id'] = sales.shop_id + sales.item_category_id * 100\n",
    "test['shop_cat_id'] = test.shop_id + test.item_category_id * 100\n",
    "\n",
    "# Add the revenue\n",
    "sales[ \"revenue\" ] = sales.item_price * sales.item_cnt_day"
   ]
  },
  {
   "cell_type": "code",
   "execution_count": 6,
   "metadata": {},
   "outputs": [],
   "source": [
    "# Split into train and validation set\n",
    "train = sales[ sales.year_month < 201510 ]\n",
    "valid = sales[ sales.year_month == 201510 ]"
   ]
  },
  {
   "cell_type": "code",
   "execution_count": 7,
   "metadata": {},
   "outputs": [
    {
     "name": "stdout",
     "output_type": "stream",
     "text": [
      "Number of new shop/item combos seen in test set: 102796. Total test items: 214200\n",
      "Number of new shop/item combos seen in validation set: 12334. Total validation items: 53514\n"
     ]
    }
   ],
   "source": [
    "# See how many shop/item combinations are present in the test set and have never been seen before\n",
    "\n",
    "A = test[ test.shop_item_id.isin( sales.shop_item_id )]\n",
    "B = test[ ~test.shop_item_id.isin( sales.shop_item_id )]\n",
    "\n",
    "print( 'Number of new shop/item combos seen in test set: {}. Total test items: {}'.format(len(B), len(test)) )\n",
    "\n",
    "C = valid[ valid.shop_item_id.isin( train.shop_item_id )]\n",
    "D = valid[ ~valid.shop_item_id.isin( train.shop_item_id )]\n",
    "\n",
    "print( 'Number of new shop/item combos seen in validation set: {}. Total validation items: {}'.format(len(D), len(valid)) )"
   ]
  },
  {
   "cell_type": "code",
   "execution_count": 4,
   "metadata": {},
   "outputs": [],
   "source": [
    "agg_rules = {'item_price' : \"mean\", \"revenue\" : \"sum\", \"item_cnt_day\" : \"sum\" }\n",
    "sales_monthly = sales.groupby([ \"year_month\", \"shop_id\", \"item_id\", \"item_category_id\", \"shop_item_id\", \"shop_cat_id\" ] ).agg( agg_rules ).reset_index()\n",
    "\n",
    "agg_rules = {'item_price' : \"mean\", \"revenue\" : \"sum\", \"item_cnt_day\" : \"sum\", \"shop_id\" : \"count\", \"item_id\" : \"count\" }\n",
    "sales_monthly_cat = sales_monthly.groupby([ \"year_month\", \"item_category_id\" ] ).agg( agg_rules ).reset_index()\n",
    "\n",
    "agg_rules = {'item_price' : \"mean\", \"revenue\" : \"sum\", \"item_cnt_day\" : \"sum\", \"item_category_id\" : \"count\", \"item_id\" : \"count\" }\n",
    "sales_monthly_shop = sales_monthly.groupby([ \"year_month\", \"shop_id\" ] ).agg( agg_rules ).reset_index()\n",
    "\n",
    "agg_rules = {'item_price' : \"mean\", \"revenue\" : \"sum\", \"item_cnt_day\" : \"sum\", \"shop_id\" : \"count\" }\n",
    "sales_monthly_item = sales_monthly.groupby([ \"year_month\", \"item_id\" ] ).agg( agg_rules ).reset_index()\n",
    "\n",
    "agg_rules = {'item_price' : \"mean\", \"revenue\" : \"sum\", \"item_cnt_day\" : \"sum\" }\n",
    "sales_monthly_shop_item = sales_monthly.groupby([ \"year_month\", \"shop_item_id\", \"item_id\", \"shop_id\", \"item_category_id\" ] ).agg( agg_rules ).reset_index()\n",
    "\n",
    "agg_rules = {'item_price' : \"mean\", \"revenue\" : \"sum\", \"item_cnt_day\" : \"sum\", \"item_id\" : \"sum\" }\n",
    "sales_monthly_shop_cat = sales_monthly.groupby([ \"year_month\", \"shop_cat_id\", \"item_category_id\", \"shop_id\" ] ).agg( agg_rules ).reset_index()"
   ]
  },
  {
   "cell_type": "code",
   "execution_count": 5,
   "metadata": {},
   "outputs": [
    {
     "data": {
      "text/plain": [
       "(array([41.,  9.,  3.,  0.,  2.,  2.,  1.,  3.,  0.,  2.]),\n",
       " array([1.0000e+00, 7.1160e+02, 1.4222e+03, 2.1328e+03, 2.8434e+03,\n",
       "        3.5540e+03, 4.2646e+03, 4.9752e+03, 5.6858e+03, 6.3964e+03,\n",
       "        7.1070e+03]),\n",
       " <a list of 10 Patch objects>)"
      ]
     },
     "execution_count": 5,
     "metadata": {},
     "output_type": "execute_result"
    },
    {
     "data": {
      "image/png": "[encoded data removed]",
      "text/plain": [
       "<Figure size 432x288 with 1 Axes>"
      ]
     },
     "metadata": {
      "needs_background": "light"
     },
     "output_type": "display_data"
    }
   ],
   "source": [
    "sales_monthly_cat.sort_values(by=\"item_cnt_day\", ascending=False)\n",
    "\n",
    "plt.hist(sales_monthly_cat[ sales_monthly_cat.year_month == 201509 ].item_cnt_day, alpha=0.7, rwidth=0.85)"
   ]
  },
  {
   "cell_type": "code",
   "execution_count": 20,
   "metadata": {},
   "outputs": [
    {
     "data": {
      "text/plain": [
       "Text(0.5, 1.0, 'Log Distribution of Items sold per shop in 2015')"
      ]
     },
     "execution_count": 20,
     "metadata": {},
     "output_type": "execute_result"
    },
    {
     "data": {
      "image/png": "[encoded data removed]",
      "text/plain": [
       "<Figure size 1152x360 with 2 Axes>"
      ]
     },
     "metadata": {
      "needs_background": "light"
     },
     "output_type": "display_data"
    }
   ],
   "source": [
    "sales_monthly_shop.sort_values(by=\"item_cnt_day\", ascending=False)\n",
    "\n",
    "plt.figure(figsize=(16,5))\n",
    "\n",
    "plt.subplot(1,2,1)\n",
    "plt.hist( sales_monthly_shop[ sales_monthly_shop.year_month >= 201501 ].item_cnt_day, alpha=0.7, rwidth=0.85)\n",
    "plt.title( \"Distribution of Items sold per shop in 2015\" )\n",
    "\n",
    "plt.subplot(1,2,2)\n",
    "plt.hist(np.log( sales_monthly_shop[ sales_monthly_shop.year_month >= 201501 ].item_cnt_day), alpha=0.7, rwidth=0.85)\n",
    "plt.title( \"Log Distribution of Items sold per shop in 2015\" )"
   ]
  },
  {
   "cell_type": "code",
   "execution_count": 217,
   "metadata": {},
   "outputs": [
    {
     "name": "stdout",
     "output_type": "stream",
     "text": [
      "[[1.        0.8129659]\n",
      " [0.8129659 1.       ]]\n"
     ]
    },
    {
     "data": {
      "image/png": "[encoded data removed]",
      "text/plain": [
       "<Figure size 432x288 with 1 Axes>"
      ]
     },
     "metadata": {
      "needs_background": "light"
     },
     "output_type": "display_data"
    }
   ],
   "source": [
    "# Persistence of item categories from month to month\n",
    "\n",
    "y1 = 201510\n",
    "y2 = 201509\n",
    "\n",
    "x1 = np.zeros( (sales.item_category_id.max(),1) )\n",
    "x2 = np.zeros( (sales.item_category_id.max(),1) )\n",
    "\n",
    "s1 = sales_monthly_cat[ sales_monthly_cat.year_month == y1 ]\n",
    "s2 = sales_monthly_cat[ sales_monthly_cat.year_month == y2 ]\n",
    "\n",
    "for j in range(len(x1)):\n",
    "\n",
    "    tmp_1 = s1[ s1.item_category_id == j ]\n",
    "    if len(tmp_1) > 0:\n",
    "        x1[j] = float(tmp_1.item_cnt_day )\n",
    "        \n",
    "    tmp_2 = s2[ s2.item_category_id == j ]        \n",
    "    if len(tmp_2) > 0:\n",
    "        x2[j] = float( tmp_2.item_cnt_day )\n",
    "\n",
    "plt.scatter( x1, x2 )\n",
    "print( np.corrcoef(x1.T, x2.T) )"
   ]
  },
  {
   "cell_type": "code",
   "execution_count": 228,
   "metadata": {},
   "outputs": [
    {
     "name": "stdout",
     "output_type": "stream",
     "text": [
      "[[1.         0.60877303]\n",
      " [0.60877303 1.        ]]\n"
     ]
    },
    {
     "data": {
      "image/png": "[encoded data removed]",
      "text/plain": [
       "<Figure size 432x288 with 1 Axes>"
      ]
     },
     "metadata": {
      "needs_background": "light"
     },
     "output_type": "display_data"
    }
   ],
   "source": [
    "# Persistence of items from month to month\n",
    "\n",
    "y1 = 201510\n",
    "y2 = 201509\n",
    "\n",
    "x1 = np.zeros( (sales.item_id.max(),1) )\n",
    "x2 = np.zeros( (sales.item_id.max(),1) )\n",
    "\n",
    "s1 = sales_monthly_item[ sales_monthly_item.year_month == y1 ]\n",
    "s2 = sales_monthly_item[ sales_monthly_item.year_month == y2 ]\n",
    "\n",
    "for j in range(len(x1)):\n",
    "\n",
    "    tmp_1 = s1[ s1.item_id == j ]\n",
    "    if len(tmp_1) > 0:\n",
    "        x1[j] = float( tmp_1.item_cnt_day )\n",
    "        \n",
    "    tmp_2 = s2[ s2.item_id == j ]        \n",
    "    if len(tmp_2) > 0:\n",
    "        x2[j] = float( tmp_2.item_cnt_day )\n",
    "\n",
    "plt.scatter( x1, x2 )\n",
    "print( np.corrcoef(x1.T, x2.T) )\n"
   ]
  },
  {
   "cell_type": "code",
   "execution_count": 229,
   "metadata": {},
   "outputs": [
    {
     "name": "stdout",
     "output_type": "stream",
     "text": [
      "[[1.         0.83583757]\n",
      " [0.83583757 1.        ]]\n"
     ]
    },
    {
     "data": {
      "image/png": "[encoded data removed]",
      "text/plain": [
       "<Figure size 432x288 with 1 Axes>"
      ]
     },
     "metadata": {
      "needs_background": "light"
     },
     "output_type": "display_data"
    }
   ],
   "source": [
    "# Persistence of shops from month to month\n",
    "\n",
    "y1 = 201510\n",
    "y2 = 201509\n",
    "\n",
    "x1 = np.zeros( (sales.shop_id.max(),1) )\n",
    "x2 = np.zeros( (sales.shop_id.max(),1) )\n",
    "\n",
    "s1 = sales_monthly_shop[ sales_monthly_shop.year_month == y1 ]\n",
    "s2 = sales_monthly_shop[ sales_monthly_shop.year_month == y2 ]\n",
    "\n",
    "for j in range(len(x1)):\n",
    "\n",
    "    tmp_1 = s1[ s1.shop_id == j ]\n",
    "    if len(tmp_1) > 0:\n",
    "        x1[j] = float( tmp_1.item_cnt_day )\n",
    "        \n",
    "    tmp_2 = s2[ s2.item_id == j ]        \n",
    "    if len(tmp_2) > 0:\n",
    "        x2[j] = float( tmp_2.item_cnt_day )\n",
    "\n",
    "plt.scatter( x1, x2 )\n",
    "print( np.corrcoef(x1.T, x2.T) )"
   ]
  },
  {
   "cell_type": "code",
   "execution_count": 249,
   "metadata": {},
   "outputs": [
    {
     "name": "stdout",
     "output_type": "stream",
     "text": [
      "[[1.         0.17517976]\n",
      " [0.17517976 1.        ]]\n"
     ]
    },
    {
     "data": {
      "image/png": "[encoded data removed]",
      "text/plain": [
       "<Figure size 432x288 with 1 Axes>"
      ]
     },
     "metadata": {
      "needs_background": "light"
     },
     "output_type": "display_data"
    }
   ],
   "source": [
    "# Persistence of shop-items from month to month\n",
    "\n",
    "y1 = 201510\n",
    "y2 = 201509\n",
    "\n",
    "s1 = sales_monthly_shop_item[ sales_monthly_shop_item.year_month == y1 ]\n",
    "s2 = sales_monthly_shop_item[ sales_monthly_shop_item.year_month == y2 ]\n",
    "\n",
    "sc_ids_1 = set(s1.shop_item_id)\n",
    "sc_ids_2 = set(s2.shop_item_id)\n",
    "sc_ids = list(sc_ids_1.union(sc_ids_2))\n",
    "\n",
    "x1 = np.zeros( (len(sc_ids),1) )\n",
    "x2 = np.zeros( (len(sc_ids),1) )\n",
    "\n",
    "for j in range(len(x1)):\n",
    "\n",
    "    id_j = sc_ids[j]\n",
    "    \n",
    "    tmp_1 = s1[ s1.shop_item_id == id_j ]\n",
    "    if len(tmp_1) > 0:\n",
    "        x1[j] = float( tmp_1.item_cnt_day )\n",
    "        \n",
    "    tmp_2 = s2[ s2.shop_item_id == id_j ]        \n",
    "    if len(tmp_2) > 0:\n",
    "        x2[j] = float( tmp_2.item_cnt_day )\n",
    "\n",
    "plt.scatter( x1, x2 )\n",
    "print( np.corrcoef(x1.T, x2.T) )\n"
   ]
  },
  {
   "cell_type": "code",
   "execution_count": 273,
   "metadata": {},
   "outputs": [
    {
     "name": "stdout",
     "output_type": "stream",
     "text": [
      "[[1.         0.36459748]\n",
      " [0.36459748 1.        ]]\n"
     ]
    },
    {
     "data": {
      "image/png": "[encoded data removed]",
      "text/plain": [
       "<Figure size 432x288 with 1 Axes>"
      ]
     },
     "metadata": {
      "needs_background": "light"
     },
     "output_type": "display_data"
    }
   ],
   "source": [
    "# Persistence of shop-category from month to month\n",
    "\n",
    "y1 = 201510\n",
    "y2 = 201509\n",
    "\n",
    "s1 = sales_monthly_shop_cat[ sales_monthly_shop_cat.year_month == y1 ]\n",
    "s2 = sales_monthly_shop_cat[ sales_monthly_shop_cat.year_month == y2 ]\n",
    "\n",
    "sc_ids_1 = set(s1.shop_cat_id)\n",
    "sc_ids_2 = set(s2.shop_cat_id)\n",
    "sc_ids = list(sc_ids_1.union(sc_ids_2))\n",
    "\n",
    "x1 = np.zeros( (len(sc_ids),1) )\n",
    "x2 = np.zeros( (len(sc_ids),1) )\n",
    "\n",
    "for j in range(len(x1)):\n",
    "\n",
    "    id_j = sc_ids[j]\n",
    "    \n",
    "    tmp_1 = s1[ s1.shop_cat_id == id_j ]\n",
    "    if len(tmp_1) > 0:\n",
    "        x1[j] = float( tmp_1.item_cnt_day )\n",
    "        \n",
    "    tmp_2 = s2[ s2.shop_cat_id == id_j ]        \n",
    "    if len(tmp_2) > 0:\n",
    "        x2[j] = float( tmp_2.item_cnt_day )\n",
    "\n",
    "plt.scatter( x1, x2 )\n",
    "plt.xlim(0,1000)\n",
    "plt.ylim(0,1000)\n",
    "print( np.corrcoef(x1.T, x2.T) )"
   ]
  },
  {
   "cell_type": "code",
   "execution_count": null,
   "metadata": {},
   "outputs": [],
   "source": [
    "\n"
   ]
  },
  {
   "cell_type": "code",
   "execution_count": 200,
   "metadata": {},
   "outputs": [],
   "source": [
    "import statsmodels.graphics.gofplots\n",
    "\n",
    "sales_201510 = sales_monthly[sales_monthly.year_month == 201510]\n",
    "sales_item_201510 = sales_monthly_item[sales_monthly_item.year_month == 201510]\n"
   ]
  },
  {
   "cell_type": "code",
   "execution_count": 202,
   "metadata": {},
   "outputs": [
    {
     "data": {
      "text/plain": [
       "(array([2.1351e+04, 0.0000e+00, 0.0000e+00, 0.0000e+00, 5.0700e+03,\n",
       "        0.0000e+00, 0.0000e+00, 1.9070e+03, 9.5900e+02, 0.0000e+00,\n",
       "        5.8200e+02, 3.4100e+02, 2.2600e+02, 1.5800e+02, 2.4100e+02,\n",
       "        6.5000e+01, 1.1700e+02, 1.3000e+02, 4.6000e+01, 5.3000e+01,\n",
       "        4.4000e+01, 4.4000e+01, 4.0000e+01, 1.5000e+01, 1.2000e+01,\n",
       "        1.2000e+01, 1.6000e+01, 1.3000e+01, 8.0000e+00, 5.0000e+00,\n",
       "        3.0000e+00, 2.0000e+00, 1.0000e+00, 3.0000e+00, 1.0000e+00,\n",
       "        1.0000e+00, 0.0000e+00, 0.0000e+00, 0.0000e+00, 3.0000e+00,\n",
       "        1.0000e+00, 0.0000e+00, 0.0000e+00, 0.0000e+00, 0.0000e+00,\n",
       "        0.0000e+00, 0.0000e+00, 0.0000e+00, 0.0000e+00, 1.0000e+00]),\n",
       " array([0.        , 0.15440036, 0.30880072, 0.46320108, 0.61760144,\n",
       "        0.77200179, 0.92640215, 1.08080251, 1.23520287, 1.38960323,\n",
       "        1.54400359, 1.69840395, 1.85280431, 2.00720466, 2.16160502,\n",
       "        2.31600538, 2.47040574, 2.6248061 , 2.77920646, 2.93360682,\n",
       "        3.08800718, 3.24240753, 3.39680789, 3.55120825, 3.70560861,\n",
       "        3.86000897, 4.01440933, 4.16880969, 4.32321005, 4.47761041,\n",
       "        4.63201076, 4.78641112, 4.94081148, 5.09521184, 5.2496122 ,\n",
       "        5.40401256, 5.55841292, 5.71281328, 5.86721363, 6.02161399,\n",
       "        6.17601435, 6.33041471, 6.48481507, 6.63921543, 6.79361579,\n",
       "        6.94801615, 7.10241651, 7.25681686, 7.41121722, 7.56561758,\n",
       "        7.72001794]),\n",
       " <a list of 50 Patch objects>)"
      ]
     },
     "execution_count": 202,
     "metadata": {},
     "output_type": "execute_result"
    },
    {
     "data": {
      "image/png": "[encoded data removed]",
      "text/plain": [
       "<Figure size 432x288 with 1 Axes>"
      ]
     },
     "metadata": {
      "needs_background": "light"
     },
     "output_type": "display_data"
    }
   ],
   "source": [
    "plt.hist( np.log(sales_201510.item_cnt_day[sales_201510.item_cnt_day>0]), bins=50 )"
   ]
  },
  {
   "cell_type": "code",
   "execution_count": 203,
   "metadata": {},
   "outputs": [
    {
     "data": {
      "text/plain": [
       "(array([1.427e+03, 0.000e+00, 0.000e+00, 0.000e+00, 7.050e+02, 0.000e+00,\n",
       "        4.490e+02, 0.000e+00, 3.740e+02, 2.840e+02, 2.210e+02, 1.570e+02,\n",
       "        1.810e+02, 2.780e+02, 1.910e+02, 1.610e+02, 1.210e+02, 1.360e+02,\n",
       "        1.400e+02, 8.000e+01, 8.500e+01, 8.600e+01, 7.200e+01, 5.500e+01,\n",
       "        4.700e+01, 4.000e+01, 3.400e+01, 1.300e+01, 1.700e+01, 1.400e+01,\n",
       "        6.000e+00, 9.000e+00, 1.000e+01, 3.000e+00, 2.000e+00, 2.000e+00,\n",
       "        2.000e+00, 2.000e+00, 0.000e+00, 1.000e+00, 2.000e+00, 0.000e+00,\n",
       "        0.000e+00, 1.000e+00, 0.000e+00, 0.000e+00, 1.000e+00, 0.000e+00,\n",
       "        0.000e+00, 1.000e+00]),\n",
       " array([0.        , 0.16626724, 0.33253448, 0.49880172, 0.66506896,\n",
       "        0.8313362 , 0.99760343, 1.16387067, 1.33013791, 1.49640515,\n",
       "        1.66267239, 1.82893963, 1.99520687, 2.16147411, 2.32774135,\n",
       "        2.49400859, 2.66027582, 2.82654306, 2.9928103 , 3.15907754,\n",
       "        3.32534478, 3.49161202, 3.65787926, 3.8241465 , 3.99041374,\n",
       "        4.15668098, 4.32294821, 4.48921545, 4.65548269, 4.82174993,\n",
       "        4.98801717, 5.15428441, 5.32055165, 5.48681889, 5.65308613,\n",
       "        5.81935337, 5.9856206 , 6.15188784, 6.31815508, 6.48442232,\n",
       "        6.65068956, 6.8169568 , 6.98322404, 7.14949128, 7.31575852,\n",
       "        7.48202576, 7.648293  , 7.81456023, 7.98082747, 8.14709471,\n",
       "        8.31336195]),\n",
       " <a list of 50 Patch objects>)"
      ]
     },
     "execution_count": 203,
     "metadata": {},
     "output_type": "execute_result"
    },
    {
     "data": {
      "image/png": "[encoded data removed]",
      "text/plain": [
       "<Figure size 432x288 with 1 Axes>"
      ]
     },
     "metadata": {
      "needs_background": "light"
     },
     "output_type": "display_data"
    }
   ],
   "source": [
    "plt.hist( np.log(sales_item_201510.item_cnt_day[sales_item_201510.item_cnt_day>0]), bins=50 )"
   ]
  },
  {
   "cell_type": "code",
   "execution_count": 5,
   "metadata": {},
   "outputs": [],
   "source": [
    "import numpy as np\n",
    "import pandas as pd\n",
    "import matplotlib.pyplot as plt\n",
    "\n",
    "from sklearn.decomposition import PCA\n",
    "from fbprophet import Prophet\n",
    "import datetime\n",
    "    \n",
    "class PCADecomp():\n",
    "    \n",
    "    def __init__(self, sales_monthly, pivot_column, method=\"pca_simple\", \\\n",
    "                 begin_idx=0, end_idx=None, n_pca_components=10, n_fcst_periods=1 ):\n",
    "        \n",
    "        self.sales_monthly = sales_monthly\n",
    "        self.pivot_column = pivot_column\n",
    "        self.n_fcst_periods = n_fcst_periods\n",
    "        self.method = method\n",
    "\n",
    "        self.n_pca_components = n_pca_components\n",
    "        self.begin_idx = begin_idx\n",
    "        \n",
    "        if end_idx is None:\n",
    "            self.end_idx = len(self.sales_monthly)-1\n",
    "        else:\n",
    "            self.end_idx = end_idx\n",
    "\n",
    "        # Calculate the time series for the given pivot column\n",
    "        self.ts_full = create_pivot_ts( self.sales_monthly, self.pivot_column )\n",
    "\n",
    "    def forecast(self):\n",
    "        \n",
    "        self.mu = self.ts_full.mean(axis=0).to_numpy().reshape((1,self.ts_full.shape[1]))\n",
    "        ts_demean = pred.ts_full - self.mu\n",
    "        \n",
    "        self.y = ts_demean.iloc[-self.n_fcst_periods:]\n",
    "        self.X = ts_demean.iloc[:-self.n_fcst_periods]\n",
    " \n",
    "        # Fit the PCA\n",
    "        self.pca = PCA(n_components=self.n_pca_components)\n",
    "\n",
    "        self.pca.fit(self.X)\n",
    "\n",
    "        # Find the factors according to the PCA\n",
    "        self.X_factors = np.matmul( ts_demean.to_numpy(), self.pca.components_.T )        \n",
    "        \n",
    "        # Make forecasts for the factors\n",
    "        self._forecast_factors()\n",
    "        \n",
    "        # Concat the forecast time series with the existing time series\n",
    "        self.X_full = np.vstack( [ self.X_factors, self.X_forecast ] )\n",
    "        \n",
    "        # Save the result as 'yhat'\n",
    "        yhat_demeaned = self.pca.inverse_transform(self.X_full)\n",
    "        self.yhat = yhat_demeaned + self.mu\n",
    "        \n",
    "        \n",
    "    def _forecast_factors(self):\n",
    "        \n",
    "        if self.method == \"pca_simple\":\n",
    "            self._forecast_factors_simple()\n",
    "        elif self.method == \"pca_prophet\":\n",
    "            self._forecast_factors_prophet()\n",
    "         \n",
    "\n",
    "    def _forecast_factors_simple(self):\n",
    "        \"\"\"Forecast that the PCA factors stay constant into the future.\"\"\"\n",
    "        \n",
    "        N = self.n_fcst_periods\n",
    "        self.X_forecast = self.X_factors[-N,:]\n",
    "        for j in range(1,N):\n",
    "            self.X_forecast = np.vstack( [ self.X_forecast, self.X_factors[-N+j,:] ] )\n",
    "                \n",
    "        \n",
    "    def _forecast_factors_prophet( self, n_fcst_periods=1 ):\n",
    "        #prophet reqiures a pandas df at the below config \n",
    "        # ( date column named as DS and the value column as Y)\n",
    "\n",
    "        yhat = None\n",
    "        for j in range(self.n_pca_components):\n",
    "            # Get the j-th principal component\n",
    "            fcst = self.forecast_pca_prophet_single( component_idx=j, n_fcst_periods=n_fcst_periods )\n",
    "\n",
    "            # Convert the fitted time series to a data frame, and rename\n",
    "            new_yhat = fcst.yhat.to_frame().copy()\n",
    "            new_yhat.columns = pd.Index([ \"y_\" + \"{:02}\".format(j) ])\n",
    "\n",
    "            if yhat is None:\n",
    "                yhat = new_yhat\n",
    "            else:\n",
    "                yhat = pd.concat( [ yhat, new_yhat ], axis=1 )\n",
    "\n",
    "        self.yhat = yhat\n",
    "        \n",
    "        \n",
    "    def _forecast_pca_prophet_single( self, component_idx=0, n_fcst_periods=1 ):\n",
    "        #prophet reqiures a pandas df at the below config \n",
    "        # ( date column named as DS and the value column as Y)\n",
    "\n",
    "        X_j = self.X[:,component_idx]\n",
    "        prophet_ts = pd.DataFrame( { 'ds' : year_month_to_datetime(self.ym), 'y' : X_j } )\n",
    "\n",
    "        model = Prophet( yearly_seasonality=True) #instantiate Prophet with only yearly seasonality as our data is monthly \n",
    "        model.fit(prophet_ts) #fit the model with your dataframe\n",
    "\n",
    "        # predict for five months in the furure and MS - month start is the frequency\n",
    "        future = model.make_future_dataframe(periods=n_fcst_periods, freq = 'MS')  \n",
    "\n",
    "        # now lets make the forecasts\n",
    "        fcst = model.predict(future)\n",
    "\n",
    "        return(fcst)\n",
    "\n",
    "\n",
    "    def plot(self, n_plot_components=3 ):\n",
    "\n",
    "        pca_plot = PCA(n_components=n_plot_components)\n",
    "        pca_plot.fit(self.ts_full)\n",
    "        \n",
    "        plt.figure(figsize=(14,4))\n",
    "        plt.subplot(1, 2, 1)\n",
    "        plt.plot( range(1,self.n_plot_components+1), np.cumsum( pca_plot.explained_variance_ratio_) )\n",
    "        plt.title( 'Explained Variance - PCA for ' + pivot_column )\n",
    "        plt.xlabel( '# Principal Components')\n",
    "        plt.ylabel( 'Variance Explained')\n",
    "        plt.ylim(top=1)\n",
    "        plt.xlim( 1, n_plot_components )\n",
    "\n",
    "        X_factors = np.matmul( self.ts_full.to_numpy(), pca_plot.components_.T )\n",
    "        plt.subplot(1, 2, 2)\n",
    "        plt.plot( self.X[:,0:n_plot_components] )\n",
    "        plt.title( 'Main Principal Components' )\n",
    "\n",
    "        plt.show()    \n",
    "\n",
    "\n",
    "def create_pivot_ts( input_table, pivot_column ):\n",
    "    \n",
    "        # Make time series out of the monthly  sales\n",
    "        tmp_table = input_table.groupby( [ 'year_month', pivot_column ] ).agg( { 'item_cnt_day' : 'sum' } ).reset_index()\n",
    "        ts = tmp_table.pivot_table( \"item_cnt_day\", index=\"year_month\", columns=pivot_column )\n",
    "        \n",
    "        # Fill missing values with 0\n",
    "        ts = ts.fillna(0)\n",
    "        \n",
    "        # Set negative values to 0\n",
    "        ts[ ts < 0 ] = 0\n",
    "        \n",
    "        # Set the index to be the dates\n",
    "        dates = year_month_to_datetime(ts.index.values )\n",
    "        ts = ts.set_index( pd.Index( dates ) )\n",
    "    \n",
    "        # Make sure the dates are sorted\n",
    "        ts.sort_index(axis=0, ascending=True, inplace=True )\n",
    "        \n",
    "        return(ts)\n",
    "        \n",
    "\n",
    "# Define a helper function\n",
    "def year_month_to_datetime( ym ):\n",
    "\n",
    "    if isinstance(ym, float ) or isinstance(ym, int):\n",
    "        m = ym % 100\n",
    "        y = ym // 100\n",
    "\n",
    "        output = datetime.date( y, m, 1 )\n",
    "    else:\n",
    "        if isinstance( ym, pd.Series):\n",
    "            ym = list(ym)\n",
    "\n",
    "        output = []\n",
    "        for j in range(len(ym)):\n",
    "            m = ym[j] % 100\n",
    "            y = ym[j] // 100\n",
    "\n",
    "            output.append( datetime.date( y, m, 1 ) )\n",
    "\n",
    "    return output    \n",
    "\n",
    "def rmse( x1, x2 ):\n",
    "    \n",
    "    res = np.sqrt( np.mean( (x1.ravel()-x2.ravel()) ** 2 ) )\n",
    "    return(res)\n"
   ]
  },
  {
   "cell_type": "code",
   "execution_count": 265,
   "metadata": {},
   "outputs": [],
   "source": [
    "pred = PCADecomp( sales_monthly, pivot_column=\"shop_id\", begin_idx=4, end_idx=-1, n_pca_components=3 )\n",
    "\n",
    "pred.forecast()"
   ]
  },
  {
   "cell_type": "code",
   "execution_count": null,
   "metadata": {},
   "outputs": [],
   "source": []
  },
  {
   "cell_type": "code",
   "execution_count": 266,
   "metadata": {},
   "outputs": [
    {
     "name": "stdout",
     "output_type": "stream",
     "text": [
      "2545.0054250130843\n"
     ]
    },
    {
     "data": {
      "text/plain": [
       "array([ 0,  1,  2,  3,  4,  5,  6,  7,  8, 10, 11, 13, 14, 15, 16, 17, 18,\n",
       "       19, 21, 22, 23, 24, 25, 26, 27, 28, 29, 30, 31, 32, 33, 35, 37, 38,\n",
       "       40, 41, 43, 44, 45, 46, 47, 50, 51, 52, 53, 54, 56, 57, 58, 59])"
      ]
     },
     "execution_count": 266,
     "metadata": {},
     "output_type": "execute_result"
    },
    {
     "data": {
      "image/png": "[encoded data removed]",
      "text/plain": [
       "<Figure size 432x288 with 1 Axes>"
      ]
     },
     "metadata": {
      "needs_background": "light"
     },
     "output_type": "display_data"
    }
   ],
   "source": [
    "plt.scatter( pred.yhat[-1], pred.y )\n",
    "print( rmse(pred.yhat[-1], pred.y.to_numpy() ) )\n",
    "\n",
    "pred.y.to_numpy()[0] < 0.1\n",
    "pred.y.loc[:,pred.y.to_numpy()[0] < 0.1].columns.values"
   ]
  },
  {
   "cell_type": "code",
   "execution_count": 274,
   "metadata": {},
   "outputs": [
    {
     "data": {
      "text/plain": [
       "[<matplotlib.lines.Line2D at 0x1a3d169390>]"
      ]
     },
     "execution_count": 274,
     "metadata": {},
     "output_type": "execute_result"
    },
    {
     "data": {
      "image/png": "[encoded data removed]",
      "text/plain": [
       "<Figure size 432x288 with 1 Axes>"
      ]
     },
     "metadata": {
      "needs_background": "light"
     },
     "output_type": "display_data"
    }
   ],
   "source": [
    "idx = 11\n",
    "plt.plot( pred.ts_full[idx].to_numpy() )\n",
    "plt.plot( pred.yhat[:,idx] )"
   ]
  },
  {
   "cell_type": "code",
   "execution_count": 46,
   "metadata": {},
   "outputs": [
    {
     "name": "stdout",
     "output_type": "stream",
     "text": [
      "850.1937132206989\n"
     ]
    },
    {
     "data": {
      "image/png": "[encoded data removed]",
      "text/plain": [
       "<Figure size 432x288 with 1 Axes>"
      ]
     },
     "metadata": {
      "needs_background": "light"
     },
     "output_type": "display_data"
    }
   ],
   "source": [
    "plt.scatter( pred.ts_full[-2:-1].to_numpy(), pred.ts_full[-1:].to_numpy() )\n",
    "np.corrcoef( pred.ts_full[-2:-1].to_numpy(), pred.ts_full[-1:].to_numpy() )\n",
    "\n",
    "base_mse = rmse( pred.ts_full[-2:-1].to_numpy(), pred.ts_full[-1:].to_numpy() )\n",
    "print(base_mse)"
   ]
  },
  {
   "cell_type": "code",
   "execution_count": 50,
   "metadata": {},
   "outputs": [
    {
     "name": "stdout",
     "output_type": "stream",
     "text": [
      "2505.4803827564765\n"
     ]
    },
    {
     "data": {
      "image/png": "[encoded data removed]",
      "text/plain": [
       "<Figure size 432x288 with 1 Axes>"
      ]
     },
     "metadata": {
      "needs_background": "light"
     },
     "output_type": "display_data"
    }
   ],
   "source": [
    "plt.scatter( pred.ts_full.to_numpy()[-1], pred.pca.inverse_transform(pred.yhat)[-1,:] )\n",
    "np.corrcoef( pred.ts_full.to_numpy()[-1], pred.pca.inverse_transform(pred.yhat)[-1,:] )\n",
    "\n",
    "mse_1 = rmse( pred.ts_full.to_numpy()[-1], pred.pca.inverse_transform(pred.yhat)[-1,:] )\n",
    "print(mse_1)"
   ]
  },
  {
   "cell_type": "code",
   "execution_count": 6,
   "metadata": {},
   "outputs": [],
   "source": [
    "# Create the pivot table containing sales for all shop and item combinations\n",
    "sales_monthly_shop_item = create_pivot_ts( sales_monthly, 'shop_item_id' )"
   ]
  },
  {
   "cell_type": "code",
   "execution_count": 7,
   "metadata": {},
   "outputs": [],
   "source": [
    "# Only keep the shop/item combinations that appear in the test set\n",
    "Z = sales_monthly_shop_item.loc[ :, [ x in test.shop_item_id for x in sales_monthly_shop_item ] ]"
   ]
  },
  {
   "cell_type": "code",
   "execution_count": 8,
   "metadata": {},
   "outputs": [],
   "source": [
    "def format_forecast( test_ids, fcst ):\n",
    "    \n",
    "    output = pd.Series( np.zeros_like(test_ids), index=test_ids, name=\"item_cnt_month\" )\n",
    "\n",
    "    # Copy the forecasts into the same order as the test IDs\n",
    "    output[ fcst.index.values ] = fcst.values\n",
    "    \n",
    "    return(output)"
   ]
  },
  {
   "cell_type": "code",
   "execution_count": 654,
   "metadata": {},
   "outputs": [
    {
     "name": "stdout",
     "output_type": "stream",
     "text": [
      "0.4062118615697341\n",
      "1.1650051392833263\n"
     ]
    }
   ],
   "source": [
    "# ATTEMPT 1: Test\n",
    "y = Z.iloc[-1,:]\n",
    "x = Z.iloc[-7:-2,:].mean()\n",
    "\n",
    "test_output = format_forecast( y.index.values, x )\n",
    "\n",
    "print( np.corrcoef( test_output, y)[0,1])\n",
    "print( rmse(test_output, y ) )"
   ]
  },
  {
   "cell_type": "code",
   "execution_count": 664,
   "metadata": {},
   "outputs": [],
   "source": [
    "# ATTEMPT 1: Print results\n",
    "\n",
    "# Use the past 6 months to forecast\n",
    "rolling_mean = Z.iloc[-6:-1,:].mean()\n",
    "\n",
    "fcst = pd.Series( np.zeros_like( test.ID ), index=test.ID )\n",
    "fcst[rolling_mean.index] = rolling_mean.values\n",
    "\n",
    "output_1 = format_forecast( test.ID, fcst )\n",
    "output_1.to_csv( 'forecast_1_v2.csv', index=True, header=True )"
   ]
  },
  {
   "cell_type": "code",
   "execution_count": 665,
   "metadata": {},
   "outputs": [
    {
     "name": "stdout",
     "output_type": "stream",
     "text": [
      "0.43417263371237413\n",
      "1.1236472847479164\n"
     ]
    }
   ],
   "source": [
    "# ATTEMPT 2: Test\n",
    "y = Z.iloc[-1,:]\n",
    "x = Z.iloc[-7:-2,:].mean()\n",
    "\n",
    "idx = ( 0.1 > Z.iloc[-2:-1,:].sum() )\n",
    "x[idx] = 0\n",
    "\n",
    "test_output = format_forecast( y.index.values, x )\n",
    "\n",
    "print(np.corrcoef(x, y)[0,1])\n",
    "print(rmse(x, y))"
   ]
  },
  {
   "cell_type": "code",
   "execution_count": 666,
   "metadata": {},
   "outputs": [],
   "source": [
    "# ATTEMPT 2: Submission\n",
    "\n",
    "# Use the past 6 months to forecast\n",
    "rolling_mean = Z.iloc[-6:-1,:].mean()\n",
    "\n",
    "# If the last 2 months have been 0, then forecast 0\n",
    "idx = ( 0.1 > Z.iloc[-2:-1,:].sum() )\n",
    "rolling_mean[idx] = 0\n",
    "\n",
    "fcst = pd.Series( np.zeros_like( test.ID ), index=test.ID )\n",
    "fcst[rolling_mean.index] = rolling_mean.values\n",
    "\n",
    "output_2 = format_forecast( test.ID, fcst )\n",
    "output_2.to_csv( 'forecast_2_v2.csv', index=True, header=True )"
   ]
  },
  {
   "cell_type": "code",
   "execution_count": null,
   "metadata": {},
   "outputs": [],
   "source": [
    "# ATTEMPT 2: Test\n",
    "y = Z.iloc[-1,:]\n",
    "x = Z.iloc[-7:-2,:].mean()\n",
    "\n",
    "idx = ( 0.1 > Z.iloc[-2:-1,:].sum() )\n",
    "x[idx] = 0\n",
    "\n",
    "test_output = format_forecast( y.index.values, x )\n",
    "\n",
    "print(np.corrcoef(x, y)[0,1])\n",
    "print(rmse(x, y))"
   ]
  },
  {
   "cell_type": "code",
   "execution_count": 760,
   "metadata": {},
   "outputs": [
    {
     "name": "stdout",
     "output_type": "stream",
     "text": [
      "CPU times: user 86 µs, sys: 48 µs, total: 134 µs\n",
      "Wall time: 107 µs\n",
      "0\n",
      "1000\n",
      "2000\n",
      "3000\n",
      "4000\n",
      "5000\n",
      "6000\n",
      "7000\n",
      "8000\n",
      "9000\n",
      "10000\n",
      "11000\n",
      "12000\n",
      "13000\n",
      "14000\n",
      "15000\n",
      "16000\n",
      "17000\n",
      "18000\n",
      "19000\n",
      "20000\n",
      "21000\n",
      "22000\n",
      "23000\n",
      "24000\n",
      "25000\n",
      "26000\n",
      "27000\n",
      "28000\n",
      "1.1236472847479164\n"
     ]
    }
   ],
   "source": [
    "%time\n",
    "\n",
    "from sklearn.linear_model import LinearRegression\n",
    "\n",
    "T, N = Z.shape\n",
    "\n",
    "yhat = np.zeros(shape=(N,1), dtype=float )\n",
    "y = Z.iloc[-1]\n",
    "\n",
    "for k in range(N):\n",
    "\n",
    "    if k % 1000 == 0:\n",
    "        print(k)\n",
    "        \n",
    "    yy = Z.iloc[:-1,k].to_numpy().reshape(T-1,1)\n",
    "    dy = (yy[1:] - yy[:-1])\n",
    "    \n",
    "    xx = np.array(list(range(1, T-1))).reshape(T-2,1)\n",
    "\n",
    "    # model = LinearRegression()\n",
    "    # model.fit( xx, dy )\n",
    "    # yhat[k] = yy[-6:-1].mean() + model.predict(np.array([[T]]))\n",
    "    yhat[k] = yy[-6:-1].mean()\n",
    "    \n",
    "# Make sure all values are greater than 0\n",
    "yhat = np.maximum( yhat, 0 )\n",
    "\n",
    "# Make sure all values that have been 0 for the past 2 observations are predicted to be 0\n",
    "idx = ( 0.1 > Z.iloc[-2:-1,:].sum() )\n",
    "yhat[idx] = 0\n",
    "\n",
    "print( rmse( y, yhat.flat ))"
   ]
  },
  {
   "cell_type": "code",
   "execution_count": 753,
   "metadata": {},
   "outputs": [
    {
     "data": {
      "text/plain": [
       "[<matplotlib.lines.Line2D at 0x1a88050198>]"
      ]
     },
     "execution_count": 753,
     "metadata": {},
     "output_type": "execute_result"
    },
    {
     "data": {
      "image/png": "[encoded data removed]",
      "text/plain": [
       "<Figure size 432x288 with 1 Axes>"
      ]
     },
     "metadata": {
      "needs_background": "light"
     },
     "output_type": "display_data"
    }
   ],
   "source": [
    "pca = PCA(n_components=10)\n",
    "pca.fit(Z.iloc[:-1])\n",
    "\n",
    "plt.plot( np.cumsum( pca.explained_variance_ratio_ ) )"
   ]
  },
  {
   "cell_type": "code",
   "execution_count": 757,
   "metadata": {},
   "outputs": [
    {
     "data": {
      "text/plain": [
       "[<matplotlib.lines.Line2D at 0x1a894793c8>]"
      ]
     },
     "execution_count": 757,
     "metadata": {},
     "output_type": "execute_result"
    },
    {
     "data": {
      "image/png": "[encoded data removed]",
      "text/plain": [
       "<Figure size 432x288 with 1 Axes>"
      ]
     },
     "metadata": {
      "needs_background": "light"
     },
     "output_type": "display_data"
    }
   ],
   "source": [
    "pca = PCA(n_components=10)\n",
    "ZZ = Z.iloc[:-1].to_numpy()\n",
    "dZ = ZZ[1:] - ZZ[:-1]\n",
    "pca.fit(dZ)\n",
    "\n",
    "plt.plot( np.cumsum( pca.explained_variance_ratio_ ) )"
   ]
  },
  {
   "cell_type": "code",
   "execution_count": null,
   "metadata": {},
   "outputs": [],
   "source": []
  },
  {
   "cell_type": "code",
   "execution_count": null,
   "metadata": {},
   "outputs": [],
   "source": []
  },
  {
   "cell_type": "code",
   "execution_count": 656,
   "metadata": {},
   "outputs": [],
   "source": [
    "f1 = pd.read_csv( 'forecast_1.csv')\n",
    "f1u = pd.read_csv( 'forecast_1_upload.csv')\n",
    "f2 = pd.read_csv( 'forecast_2.csv')\n",
    "f2u = pd.read_csv( 'forecast_2_upload.csv')\n",
    "f3 = pd.read_csv( 'forecast_3.csv')"
   ]
  },
  {
   "cell_type": "code",
   "execution_count": 657,
   "metadata": {},
   "outputs": [
    {
     "data": {
      "text/html": [
       "<div>\n",
       "<style scoped>\n",
       "    .dataframe tbody tr th:only-of-type {\n",
       "        vertical-align: middle;\n",
       "    }\n",
       "\n",
       "    .dataframe tbody tr th {\n",
       "        vertical-align: top;\n",
       "    }\n",
       "\n",
       "    .dataframe thead th {\n",
       "        text-align: right;\n",
       "    }\n",
       "</style>\n",
       "<table border=\"1\" class=\"dataframe\">\n",
       "  <thead>\n",
       "    <tr style=\"text-align: right;\">\n",
       "      <th></th>\n",
       "      <th>ID</th>\n",
       "      <th>x_upload</th>\n",
       "      <th>x</th>\n",
       "    </tr>\n",
       "    <tr>\n",
       "      <th>ID</th>\n",
       "      <th></th>\n",
       "      <th></th>\n",
       "      <th></th>\n",
       "    </tr>\n",
       "  </thead>\n",
       "  <tbody>\n",
       "    <tr>\n",
       "      <th>2587</th>\n",
       "      <td>2587</td>\n",
       "      <td>0</td>\n",
       "      <td>0.0</td>\n",
       "    </tr>\n",
       "    <tr>\n",
       "      <th>7687</th>\n",
       "      <td>7687</td>\n",
       "      <td>0</td>\n",
       "      <td>0.0</td>\n",
       "    </tr>\n",
       "    <tr>\n",
       "      <th>12787</th>\n",
       "      <td>12787</td>\n",
       "      <td>0</td>\n",
       "      <td>0.0</td>\n",
       "    </tr>\n",
       "    <tr>\n",
       "      <th>17887</th>\n",
       "      <td>17887</td>\n",
       "      <td>0</td>\n",
       "      <td>0.0</td>\n",
       "    </tr>\n",
       "    <tr>\n",
       "      <th>22987</th>\n",
       "      <td>22987</td>\n",
       "      <td>0</td>\n",
       "      <td>0.0</td>\n",
       "    </tr>\n",
       "  </tbody>\n",
       "</table>\n",
       "</div>"
      ],
      "text/plain": [
       "          ID  x_upload    x\n",
       "ID                         \n",
       "2587    2587         0  0.0\n",
       "7687    7687         0  0.0\n",
       "12787  12787         0  0.0\n",
       "17887  17887         0  0.0\n",
       "22987  22987         0  0.0"
      ]
     },
     "execution_count": 657,
     "metadata": {},
     "output_type": "execute_result"
    }
   ],
   "source": [
    "A = f1u.join(f1, on=\"ID\", lsuffix=\"_upload\", rsuffix=\"_1\")\n",
    "A.columns = [ \"ID\", \"x_upload\", \"tmp\", \"x\" ]\n",
    "A = A[ [ \"ID\", \"x_upload\", \"x\" ] ]\n",
    "A = A.set_index(A.ID)\n",
    "A.head()"
   ]
  },
  {
   "cell_type": "code",
   "execution_count": 658,
   "metadata": {},
   "outputs": [
    {
     "data": {
      "text/html": [
       "<div>\n",
       "<style scoped>\n",
       "    .dataframe tbody tr th:only-of-type {\n",
       "        vertical-align: middle;\n",
       "    }\n",
       "\n",
       "    .dataframe tbody tr th {\n",
       "        vertical-align: top;\n",
       "    }\n",
       "\n",
       "    .dataframe thead th {\n",
       "        text-align: right;\n",
       "    }\n",
       "</style>\n",
       "<table border=\"1\" class=\"dataframe\">\n",
       "  <thead>\n",
       "    <tr style=\"text-align: right;\">\n",
       "      <th></th>\n",
       "      <th>ID</th>\n",
       "      <th>x_upload</th>\n",
       "      <th>x</th>\n",
       "    </tr>\n",
       "  </thead>\n",
       "  <tbody>\n",
       "    <tr>\n",
       "      <th>count</th>\n",
       "      <td>214200.000000</td>\n",
       "      <td>214200.000000</td>\n",
       "      <td>214200.000000</td>\n",
       "    </tr>\n",
       "    <tr>\n",
       "      <th>mean</th>\n",
       "      <td>107099.500000</td>\n",
       "      <td>0.153688</td>\n",
       "      <td>0.024414</td>\n",
       "    </tr>\n",
       "    <tr>\n",
       "      <th>std</th>\n",
       "      <td>61834.358168</td>\n",
       "      <td>2.244372</td>\n",
       "      <td>0.312651</td>\n",
       "    </tr>\n",
       "    <tr>\n",
       "      <th>min</th>\n",
       "      <td>0.000000</td>\n",
       "      <td>0.000000</td>\n",
       "      <td>0.000000</td>\n",
       "    </tr>\n",
       "    <tr>\n",
       "      <th>25%</th>\n",
       "      <td>53549.750000</td>\n",
       "      <td>0.000000</td>\n",
       "      <td>0.000000</td>\n",
       "    </tr>\n",
       "    <tr>\n",
       "      <th>50%</th>\n",
       "      <td>107099.500000</td>\n",
       "      <td>0.000000</td>\n",
       "      <td>0.000000</td>\n",
       "    </tr>\n",
       "    <tr>\n",
       "      <th>75%</th>\n",
       "      <td>160649.250000</td>\n",
       "      <td>0.000000</td>\n",
       "      <td>0.000000</td>\n",
       "    </tr>\n",
       "    <tr>\n",
       "      <th>max</th>\n",
       "      <td>214199.000000</td>\n",
       "      <td>457.000000</td>\n",
       "      <td>71.400000</td>\n",
       "    </tr>\n",
       "  </tbody>\n",
       "</table>\n",
       "</div>"
      ],
      "text/plain": [
       "                  ID       x_upload              x\n",
       "count  214200.000000  214200.000000  214200.000000\n",
       "mean   107099.500000       0.153688       0.024414\n",
       "std     61834.358168       2.244372       0.312651\n",
       "min         0.000000       0.000000       0.000000\n",
       "25%     53549.750000       0.000000       0.000000\n",
       "50%    107099.500000       0.000000       0.000000\n",
       "75%    160649.250000       0.000000       0.000000\n",
       "max    214199.000000     457.000000      71.400000"
      ]
     },
     "execution_count": 658,
     "metadata": {},
     "output_type": "execute_result"
    }
   ],
   "source": [
    "A.describe()"
   ]
  },
  {
   "cell_type": "code",
   "execution_count": 647,
   "metadata": {},
   "outputs": [
    {
     "data": {
      "text/html": [
       "<div>\n",
       "<style scoped>\n",
       "    .dataframe tbody tr th:only-of-type {\n",
       "        vertical-align: middle;\n",
       "    }\n",
       "\n",
       "    .dataframe tbody tr th {\n",
       "        vertical-align: top;\n",
       "    }\n",
       "\n",
       "    .dataframe thead th {\n",
       "        text-align: right;\n",
       "    }\n",
       "</style>\n",
       "<table border=\"1\" class=\"dataframe\">\n",
       "  <thead>\n",
       "    <tr style=\"text-align: right;\">\n",
       "      <th></th>\n",
       "      <th>ID</th>\n",
       "      <th>x_upload</th>\n",
       "      <th>x</th>\n",
       "    </tr>\n",
       "    <tr>\n",
       "      <th>ID</th>\n",
       "      <th></th>\n",
       "      <th></th>\n",
       "      <th></th>\n",
       "    </tr>\n",
       "  </thead>\n",
       "  <tbody>\n",
       "    <tr>\n",
       "      <th>163677</th>\n",
       "      <td>163677</td>\n",
       "      <td>0</td>\n",
       "      <td>NaN</td>\n",
       "    </tr>\n",
       "    <tr>\n",
       "      <th>168777</th>\n",
       "      <td>168777</td>\n",
       "      <td>0</td>\n",
       "      <td>NaN</td>\n",
       "    </tr>\n",
       "    <tr>\n",
       "      <th>173877</th>\n",
       "      <td>173877</td>\n",
       "      <td>0</td>\n",
       "      <td>NaN</td>\n",
       "    </tr>\n",
       "    <tr>\n",
       "      <th>178977</th>\n",
       "      <td>178977</td>\n",
       "      <td>0</td>\n",
       "      <td>NaN</td>\n",
       "    </tr>\n",
       "    <tr>\n",
       "      <th>184077</th>\n",
       "      <td>184077</td>\n",
       "      <td>0</td>\n",
       "      <td>NaN</td>\n",
       "    </tr>\n",
       "    <tr>\n",
       "      <th>189177</th>\n",
       "      <td>189177</td>\n",
       "      <td>0</td>\n",
       "      <td>NaN</td>\n",
       "    </tr>\n",
       "    <tr>\n",
       "      <th>194277</th>\n",
       "      <td>194277</td>\n",
       "      <td>0</td>\n",
       "      <td>NaN</td>\n",
       "    </tr>\n",
       "    <tr>\n",
       "      <th>199377</th>\n",
       "      <td>199377</td>\n",
       "      <td>0</td>\n",
       "      <td>NaN</td>\n",
       "    </tr>\n",
       "    <tr>\n",
       "      <th>204477</th>\n",
       "      <td>204477</td>\n",
       "      <td>1</td>\n",
       "      <td>NaN</td>\n",
       "    </tr>\n",
       "    <tr>\n",
       "      <th>209577</th>\n",
       "      <td>209577</td>\n",
       "      <td>0</td>\n",
       "      <td>NaN</td>\n",
       "    </tr>\n",
       "  </tbody>\n",
       "</table>\n",
       "</div>"
      ],
      "text/plain": [
       "            ID  x_upload   x\n",
       "ID                          \n",
       "163677  163677         0 NaN\n",
       "168777  168777         0 NaN\n",
       "173877  173877         0 NaN\n",
       "178977  178977         0 NaN\n",
       "184077  184077         0 NaN\n",
       "189177  189177         0 NaN\n",
       "194277  194277         0 NaN\n",
       "199377  199377         0 NaN\n",
       "204477  204477         1 NaN\n",
       "209577  209577         0 NaN"
      ]
     },
     "execution_count": 647,
     "metadata": {},
     "output_type": "execute_result"
    }
   ],
   "source": [
    "k = ( A.x_upload != A.x )\n",
    "A[k].tail(10)"
   ]
  },
  {
   "cell_type": "code",
   "execution_count": 761,
   "metadata": {},
   "outputs": [
    {
     "data": {
      "text/html": [
       "<div>\n",
       "<style scoped>\n",
       "    .dataframe tbody tr th:only-of-type {\n",
       "        vertical-align: middle;\n",
       "    }\n",
       "\n",
       "    .dataframe tbody tr th {\n",
       "        vertical-align: top;\n",
       "    }\n",
       "\n",
       "    .dataframe thead th {\n",
       "        text-align: right;\n",
       "    }\n",
       "</style>\n",
       "<table border=\"1\" class=\"dataframe\">\n",
       "  <thead>\n",
       "    <tr style=\"text-align: right;\">\n",
       "      <th></th>\n",
       "      <th>year_month</th>\n",
       "      <th>shop_id</th>\n",
       "      <th>item_id</th>\n",
       "      <th>item_category_id</th>\n",
       "      <th>shop_item_id</th>\n",
       "      <th>shop_cat_id</th>\n",
       "      <th>item_price</th>\n",
       "      <th>revenue</th>\n",
       "      <th>item_cnt_day</th>\n",
       "    </tr>\n",
       "  </thead>\n",
       "  <tbody>\n",
       "    <tr>\n",
       "      <th>0</th>\n",
       "      <td>201301</td>\n",
       "      <td>0</td>\n",
       "      <td>32</td>\n",
       "      <td>40</td>\n",
       "      <td>3200</td>\n",
       "      <td>4000</td>\n",
       "      <td>221.0</td>\n",
       "      <td>1326.0</td>\n",
       "      <td>6.0</td>\n",
       "    </tr>\n",
       "    <tr>\n",
       "      <th>1</th>\n",
       "      <td>201301</td>\n",
       "      <td>0</td>\n",
       "      <td>33</td>\n",
       "      <td>37</td>\n",
       "      <td>3300</td>\n",
       "      <td>3700</td>\n",
       "      <td>347.0</td>\n",
       "      <td>1041.0</td>\n",
       "      <td>3.0</td>\n",
       "    </tr>\n",
       "    <tr>\n",
       "      <th>2</th>\n",
       "      <td>201301</td>\n",
       "      <td>0</td>\n",
       "      <td>35</td>\n",
       "      <td>40</td>\n",
       "      <td>3500</td>\n",
       "      <td>4000</td>\n",
       "      <td>247.0</td>\n",
       "      <td>247.0</td>\n",
       "      <td>1.0</td>\n",
       "    </tr>\n",
       "    <tr>\n",
       "      <th>3</th>\n",
       "      <td>201301</td>\n",
       "      <td>0</td>\n",
       "      <td>43</td>\n",
       "      <td>40</td>\n",
       "      <td>4300</td>\n",
       "      <td>4000</td>\n",
       "      <td>221.0</td>\n",
       "      <td>221.0</td>\n",
       "      <td>1.0</td>\n",
       "    </tr>\n",
       "    <tr>\n",
       "      <th>4</th>\n",
       "      <td>201301</td>\n",
       "      <td>0</td>\n",
       "      <td>51</td>\n",
       "      <td>57</td>\n",
       "      <td>5100</td>\n",
       "      <td>5700</td>\n",
       "      <td>128.5</td>\n",
       "      <td>257.0</td>\n",
       "      <td>2.0</td>\n",
       "    </tr>\n",
       "  </tbody>\n",
       "</table>\n",
       "</div>"
      ],
      "text/plain": [
       "   year_month  shop_id  item_id  item_category_id  shop_item_id  shop_cat_id  \\\n",
       "0      201301        0       32                40          3200         4000   \n",
       "1      201301        0       33                37          3300         3700   \n",
       "2      201301        0       35                40          3500         4000   \n",
       "3      201301        0       43                40          4300         4000   \n",
       "4      201301        0       51                57          5100         5700   \n",
       "\n",
       "   item_price  revenue  item_cnt_day  \n",
       "0       221.0   1326.0           6.0  \n",
       "1       347.0   1041.0           3.0  \n",
       "2       247.0    247.0           1.0  \n",
       "3       221.0    221.0           1.0  \n",
       "4       128.5    257.0           2.0  "
      ]
     },
     "execution_count": 761,
     "metadata": {},
     "output_type": "execute_result"
    }
   ],
   "source": [
    "sales_monthly.head()"
   ]
  },
  {
   "cell_type": "code",
   "execution_count": 762,
   "metadata": {},
   "outputs": [
    {
     "data": {
      "text/html": [
       "<div>\n",
       "<style scoped>\n",
       "    .dataframe tbody tr th:only-of-type {\n",
       "        vertical-align: middle;\n",
       "    }\n",
       "\n",
       "    .dataframe tbody tr th {\n",
       "        vertical-align: top;\n",
       "    }\n",
       "\n",
       "    .dataframe thead th {\n",
       "        text-align: right;\n",
       "    }\n",
       "</style>\n",
       "<table border=\"1\" class=\"dataframe\">\n",
       "  <thead>\n",
       "    <tr style=\"text-align: right;\">\n",
       "      <th>shop_item_id</th>\n",
       "      <th>54</th>\n",
       "      <th>155</th>\n",
       "      <th>254</th>\n",
       "      <th>354</th>\n",
       "      <th>454</th>\n",
       "      <th>554</th>\n",
       "      <th>654</th>\n",
       "      <th>754</th>\n",
       "      <th>854</th>\n",
       "      <th>954</th>\n",
       "      <th>...</th>\n",
       "      <th>2216756</th>\n",
       "      <th>2216757</th>\n",
       "      <th>2216758</th>\n",
       "      <th>2216759</th>\n",
       "      <th>2216802</th>\n",
       "      <th>2216812</th>\n",
       "      <th>2216816</th>\n",
       "      <th>2216842</th>\n",
       "      <th>2216843</th>\n",
       "      <th>2216925</th>\n",
       "    </tr>\n",
       "  </thead>\n",
       "  <tbody>\n",
       "    <tr>\n",
       "      <th>2013-01-01</th>\n",
       "      <td>0.0</td>\n",
       "      <td>0.0</td>\n",
       "      <td>0.0</td>\n",
       "      <td>0.0</td>\n",
       "      <td>0.0</td>\n",
       "      <td>0.0</td>\n",
       "      <td>0.0</td>\n",
       "      <td>0.0</td>\n",
       "      <td>0.0</td>\n",
       "      <td>0.0</td>\n",
       "      <td>...</td>\n",
       "      <td>0.0</td>\n",
       "      <td>0.0</td>\n",
       "      <td>0.0</td>\n",
       "      <td>0.0</td>\n",
       "      <td>1.0</td>\n",
       "      <td>1.0</td>\n",
       "      <td>0.0</td>\n",
       "      <td>0.0</td>\n",
       "      <td>0.0</td>\n",
       "      <td>0.0</td>\n",
       "    </tr>\n",
       "    <tr>\n",
       "      <th>2013-02-01</th>\n",
       "      <td>0.0</td>\n",
       "      <td>0.0</td>\n",
       "      <td>0.0</td>\n",
       "      <td>0.0</td>\n",
       "      <td>0.0</td>\n",
       "      <td>0.0</td>\n",
       "      <td>0.0</td>\n",
       "      <td>0.0</td>\n",
       "      <td>0.0</td>\n",
       "      <td>0.0</td>\n",
       "      <td>...</td>\n",
       "      <td>0.0</td>\n",
       "      <td>0.0</td>\n",
       "      <td>0.0</td>\n",
       "      <td>0.0</td>\n",
       "      <td>0.0</td>\n",
       "      <td>0.0</td>\n",
       "      <td>1.0</td>\n",
       "      <td>1.0</td>\n",
       "      <td>0.0</td>\n",
       "      <td>0.0</td>\n",
       "    </tr>\n",
       "    <tr>\n",
       "      <th>2013-03-01</th>\n",
       "      <td>0.0</td>\n",
       "      <td>0.0</td>\n",
       "      <td>0.0</td>\n",
       "      <td>0.0</td>\n",
       "      <td>0.0</td>\n",
       "      <td>0.0</td>\n",
       "      <td>0.0</td>\n",
       "      <td>0.0</td>\n",
       "      <td>0.0</td>\n",
       "      <td>0.0</td>\n",
       "      <td>...</td>\n",
       "      <td>0.0</td>\n",
       "      <td>0.0</td>\n",
       "      <td>0.0</td>\n",
       "      <td>0.0</td>\n",
       "      <td>0.0</td>\n",
       "      <td>0.0</td>\n",
       "      <td>0.0</td>\n",
       "      <td>0.0</td>\n",
       "      <td>1.0</td>\n",
       "      <td>0.0</td>\n",
       "    </tr>\n",
       "    <tr>\n",
       "      <th>2013-04-01</th>\n",
       "      <td>0.0</td>\n",
       "      <td>0.0</td>\n",
       "      <td>0.0</td>\n",
       "      <td>0.0</td>\n",
       "      <td>0.0</td>\n",
       "      <td>0.0</td>\n",
       "      <td>0.0</td>\n",
       "      <td>0.0</td>\n",
       "      <td>0.0</td>\n",
       "      <td>0.0</td>\n",
       "      <td>...</td>\n",
       "      <td>0.0</td>\n",
       "      <td>0.0</td>\n",
       "      <td>0.0</td>\n",
       "      <td>0.0</td>\n",
       "      <td>0.0</td>\n",
       "      <td>0.0</td>\n",
       "      <td>0.0</td>\n",
       "      <td>0.0</td>\n",
       "      <td>0.0</td>\n",
       "      <td>0.0</td>\n",
       "    </tr>\n",
       "    <tr>\n",
       "      <th>2013-05-01</th>\n",
       "      <td>0.0</td>\n",
       "      <td>0.0</td>\n",
       "      <td>0.0</td>\n",
       "      <td>0.0</td>\n",
       "      <td>0.0</td>\n",
       "      <td>0.0</td>\n",
       "      <td>0.0</td>\n",
       "      <td>0.0</td>\n",
       "      <td>0.0</td>\n",
       "      <td>0.0</td>\n",
       "      <td>...</td>\n",
       "      <td>0.0</td>\n",
       "      <td>0.0</td>\n",
       "      <td>0.0</td>\n",
       "      <td>0.0</td>\n",
       "      <td>0.0</td>\n",
       "      <td>0.0</td>\n",
       "      <td>0.0</td>\n",
       "      <td>0.0</td>\n",
       "      <td>0.0</td>\n",
       "      <td>0.0</td>\n",
       "    </tr>\n",
       "  </tbody>\n",
       "</table>\n",
       "<p>5 rows × 424124 columns</p>\n",
       "</div>"
      ],
      "text/plain": [
       "shop_item_id  54       155      254      354      454      554      654      \\\n",
       "2013-01-01        0.0      0.0      0.0      0.0      0.0      0.0      0.0   \n",
       "2013-02-01        0.0      0.0      0.0      0.0      0.0      0.0      0.0   \n",
       "2013-03-01        0.0      0.0      0.0      0.0      0.0      0.0      0.0   \n",
       "2013-04-01        0.0      0.0      0.0      0.0      0.0      0.0      0.0   \n",
       "2013-05-01        0.0      0.0      0.0      0.0      0.0      0.0      0.0   \n",
       "\n",
       "shop_item_id  754      854      954      ...  2216756  2216757  2216758  \\\n",
       "2013-01-01        0.0      0.0      0.0  ...      0.0      0.0      0.0   \n",
       "2013-02-01        0.0      0.0      0.0  ...      0.0      0.0      0.0   \n",
       "2013-03-01        0.0      0.0      0.0  ...      0.0      0.0      0.0   \n",
       "2013-04-01        0.0      0.0      0.0  ...      0.0      0.0      0.0   \n",
       "2013-05-01        0.0      0.0      0.0  ...      0.0      0.0      0.0   \n",
       "\n",
       "shop_item_id  2216759  2216802  2216812  2216816  2216842  2216843  2216925  \n",
       "2013-01-01        0.0      1.0      1.0      0.0      0.0      0.0      0.0  \n",
       "2013-02-01        0.0      0.0      0.0      1.0      1.0      0.0      0.0  \n",
       "2013-03-01        0.0      0.0      0.0      0.0      0.0      1.0      0.0  \n",
       "2013-04-01        0.0      0.0      0.0      0.0      0.0      0.0      0.0  \n",
       "2013-05-01        0.0      0.0      0.0      0.0      0.0      0.0      0.0  \n",
       "\n",
       "[5 rows x 424124 columns]"
      ]
     },
     "execution_count": 762,
     "metadata": {},
     "output_type": "execute_result"
    }
   ],
   "source": [
    "sales_monthly_shop_item.head()"
   ]
  },
  {
   "cell_type": "code",
   "execution_count": 9,
   "metadata": {},
   "outputs": [],
   "source": [
    "SEED = 42\n",
    "VALIDATION_PROPORTION = 0.1\n",
    "\n",
    "def get_regression_vectors_from_matrix( input_mtx, is_X, seed=SEED, valid_prop=VALIDATION_PROPORTION ):\n",
    "\n",
    "    N = input_mtx.shape[1]\n",
    "    new_row = np.array( [np.NaN] * N ).reshape(1,N)    \n",
    "    if is_X:\n",
    "        M = np.vstack( [ new_row, input_mtx.to_numpy() ] )\n",
    "    else:\n",
    "        M = np.vstack( [ input_mtx.to_numpy(), new_row ] )\n",
    "\n",
    "    # Randomly split the validation and training sets\n",
    "    s_train_valid = M[:-1].ravel()[:,np.newaxis]\n",
    "    s_train, s_valid = split_train_validation_sets( s_train_valid, seed=seed, valid_prop=valid_prop )\n",
    "    \n",
    "    # Get the test set\n",
    "    s_test = M[-1].ravel()[:,np.newaxis]    \n",
    "\n",
    "    return s_train, s_valid, s_test\n",
    "\n",
    "\n",
    "def split_train_validation_sets( s, seed=SEED, valid_prop=VALIDATION_PROPORTION ):\n",
    "    \n",
    "    rng = np.random.RandomState(42)\n",
    "    N = len(s)\n",
    "    n_valid = int( np.floor( N * valid_prop ))\n",
    "    \n",
    "    idx = rng.choice(N, N, replace=False)\n",
    "    s_valid = s[ idx[:n_valid] ]\n",
    "    s_train = s[ idx[n_valid:] ]\n",
    "    \n",
    "    return s_train, s_valid\n",
    "    \n",
    "\n",
    "def remove_nan_rows( xx_input, yy_input ):\n",
    "    idx = np.any( np.isnan( xx_input ), axis=1 ).ravel() | np.any( np.isnan( yy_input ), axis=1 ).ravel() \n",
    "    xx_output = xx_input[~idx,:]\n",
    "    yy_output = yy_input[~idx,:]    \n",
    "    return xx_output, yy_output\n",
    "    \n",
    "    \n",
    "def running_mean(x, N):\n",
    "    cumsum = np.cumsum(np.insert(x, 0, 0)) \n",
    "    return (cumsum[N:,:] - cumsum[:-N,:]) / float(N)"
   ]
  },
  {
   "cell_type": "code",
   "execution_count": null,
   "metadata": {},
   "outputs": [],
   "source": []
  },
  {
   "cell_type": "code",
   "execution_count": 10,
   "metadata": {},
   "outputs": [],
   "source": [
    "# Only keep the shop/item combinations that appear in the test set\n",
    "W = sales_monthly_shop_item.loc[ :, [ x in test.shop_item_id for x in sales_monthly_shop_item ] ]\n",
    "dW = W - W.shift(periods=1)\n",
    "Z = dW"
   ]
  },
  {
   "cell_type": "code",
   "execution_count": 11,
   "metadata": {},
   "outputs": [],
   "source": [
    "# Create the test and train sets from the observation matrices\n",
    "yy_train, yy_valid, yy_test = get_regression_vectors_from_matrix( Z, is_X=False )\n",
    "W_train, W_valid, W_test = get_regression_vectors_from_matrix( W, is_X=True)\n",
    "\n",
    "# Get feature vectors\n",
    "X_train = [None] * 23\n",
    "X_test = [None] * 23\n",
    "X_valid = [None] * 23\n",
    "\n",
    "# Use different lags as features\n",
    "c = 0\n",
    "for j in range(0, 12):\n",
    "    X_train[c], X_valid[c], X_test[c] = get_regression_vectors_from_matrix( Z.shift(periods=j), is_X=True)\n",
    "    c += 1\n",
    "    \n",
    "# Get rolling means\n",
    "for j in range(1, 12):\n",
    "    # Calculate the rolling mean\n",
    "    x_mean_mtx = Z.rolling(window=j+1).mean()\n",
    "    X_train[c], X_valid[c], X_test[c] = get_regression_vectors_from_matrix(x_mean_mtx, is_X=True )\n",
    "    c += 1\n",
    "\n",
    "# Combine all of the X vectors into a single feature matrix\n",
    "xx_train = np.hstack(X_train)\n",
    "xx_valid = np.hstack(X_valid)\n",
    "xx_test = np.hstack(X_test)\n",
    "\n",
    "# Remove all rows with NaNs in the Train and Validation sets\n",
    "# In the test set, all Y values are unknown, so we leave these alone\n",
    "W_train, _ = remove_nan_rows( W_train, np.hstack( [ xx_train, yy_train ] ) )\n",
    "W_valid, _ = remove_nan_rows( W_valid, np.hstack( [ xx_valid, yy_valid ] ) )\n",
    "\n",
    "xx_train, yy_train = remove_nan_rows( xx_train, yy_train )\n",
    "xx_valid, yy_valid = remove_nan_rows( xx_valid, yy_valid )\n"
   ]
  },
  {
   "cell_type": "code",
   "execution_count": 145,
   "metadata": {},
   "outputs": [
    {
     "data": {
      "text/plain": [
       "(60321, 1)"
      ]
     },
     "execution_count": 145,
     "metadata": {},
     "output_type": "execute_result"
    }
   ],
   "source": []
  },
  {
   "cell_type": "code",
   "execution_count": 146,
   "metadata": {},
   "outputs": [
    {
     "name": "stdout",
     "output_type": "stream",
     "text": [
      "CPU times: user 3 µs, sys: 1e+03 ns, total: 4 µs\n",
      "Wall time: 7.87 µs\n",
      "1.4310457030396138\n",
      "1.4336546794462526\n"
     ]
    }
   ],
   "source": [
    "from sklearn.linear_model import LinearRegression, Ridge\n",
    "\n",
    "%time\n",
    "model = LinearRegression()\n",
    "model.fit( xx_train, yy_train )\n",
    "\n",
    "yhat = model.predict(xx_valid)\n",
    "\n",
    "print(rmse( np.maximum(0, W_valid + yhat), W_valid + yy_valid))\n",
    "print(rmse( yhat, yy_valid ) )"
   ]
  },
  {
   "cell_type": "code",
   "execution_count": 147,
   "metadata": {},
   "outputs": [
    {
     "name": "stdout",
     "output_type": "stream",
     "text": [
      "Degree 1: RMSE [1.43114801]\n",
      "Degree 2: RMSE [1.37325791]\n"
     ]
    }
   ],
   "source": [
    "# Try Polynomial Regression\n",
    "\n",
    "from sklearn.linear_model import LinearRegression\n",
    "from sklearn.preprocessing import PolynomialFeatures\n",
    "\n",
    "n_degrees = 2\n",
    "res = np.zeros(shape=(n_degrees,1), dtype=float )\n",
    "for d in range(0,n_degrees):\n",
    "    polynomial_features = PolynomialFeatures(degree=d+1)\n",
    "    x_poly_train = polynomial_features.fit_transform(xx_train)\n",
    "    x_poly_valid = polynomial_features.fit_transform(xx_valid)\n",
    "\n",
    "    model = LinearRegression()\n",
    "    model.fit( x_poly_train, yy_train)\n",
    "    yhat_poly = W_valid + model.predict(x_poly_valid)\n",
    "    yhat_poly = np.maximum(0, yhat_poly)    \n",
    "    \n",
    "    res[d] = rmse( yhat_poly, W_valid + yy_valid)\n",
    "    print( 'Degree {}: RMSE {}'.format(d+1, res[d]))"
   ]
  },
  {
   "cell_type": "code",
   "execution_count": 168,
   "metadata": {},
   "outputs": [
    {
     "name": "stdout",
     "output_type": "stream",
     "text": [
      "Degree 1: RMSE [1.42943655]\n",
      "Degree 2: RMSE [1.37340396]\n"
     ]
    }
   ],
   "source": [
    "# Try ridge regression\n",
    "from sklearn.linear_model import Ridge\n",
    "\n",
    "n_degrees = 2\n",
    "res = np.zeros(shape=(n_degrees,1), dtype=float )\n",
    "for d in range(0,n_degrees):\n",
    "    polynomial_features = PolynomialFeatures(degree=d+1)\n",
    "    x_poly_train = polynomial_features.fit_transform(xx_train)\n",
    "    x_poly_valid = polynomial_features.fit_transform(xx_valid)\n",
    "\n",
    "    model = Ridge(alpha=0.1, normalize=True)\n",
    "    model.fit(x_poly_train, yy_train)\n",
    "    yhat_poly = W_valid + model.predict(x_poly_valid)\n",
    "    yhat_poly = np.maximum(0, yhat_poly)\n",
    "\n",
    "    res[d] = rmse( yhat_poly, W_valid + yy_valid)\n",
    "    print( 'Degree {}: RMSE {}'.format(d+1, res[d]))\n",
    "    "
   ]
  },
  {
   "cell_type": "code",
   "execution_count": 161,
   "metadata": {},
   "outputs": [
    {
     "name": "stdout",
     "output_type": "stream",
     "text": [
      "Degree 2: RMSE 1.373403961495297\n"
     ]
    }
   ],
   "source": [
    "# Forecast 3-6 - use ridge regression with polynomial features of degree = 2\n",
    "\n",
    "# Set up the model and transform the features\n",
    "polynomial_features = PolynomialFeatures(degree=2)\n",
    "x_poly_train = polynomial_features.fit_transform(xx_train)\n",
    "x_poly_valid = polynomial_features.fit_transform(xx_valid)\n",
    "x_poly_test = polynomial_features.fit_transform(xx_test)\n",
    "\n",
    "# Fit the model using the training data\n",
    "model = Ridge(alpha=0.1, normalize=True)\n",
    "model.fit(x_poly_train, yy_train)\n",
    "\n",
    "# Run the model on the validation set and see the score\n",
    "yhat_valid = W_valid + model.predict(x_poly_valid)\n",
    "yhat_valid = np.maximum(0, yhat_valid)\n",
    "res = rmse( yhat_valid, W_valid + yy_valid)\n",
    "print( 'Degree {}: RMSE {}'.format(d+1, res ) )\n",
    "\n",
    "# Make a forecast using the test data\n",
    "yhat_test = W_test + model.predict(x_poly_test)\n",
    "yhat_test = np.maximum(0, yhat_test)\n",
    "\n",
    "# Format the forecast as a Pandas Series and write the output to .csv\n",
    "fcst_poly_ridge_reg = pd.Series( yhat_test.ravel(), index=pd.Index(Z.columns) )\n",
    "output = format_forecast( test.ID, fcst_poly_ridge_reg )\n",
    "\n",
    "# Make sure all values that have been 0 for the past 2 observations are predicted to be 0\n",
    "idx = ( 0.1 > Z.iloc[-2:-1,:].sum() )\n",
    "output[idx.index] = 0\n",
    "\n",
    "output.to_csv( 'forecast_6.csv', index=True, header=True )"
   ]
  },
  {
   "cell_type": "code",
   "execution_count": null,
   "metadata": {},
   "outputs": [
    {
     "name": "stdout",
     "output_type": "stream",
     "text": [
      "CPU times: user 3 µs, sys: 1e+03 ns, total: 4 µs\n",
      "Wall time: 8.11 µs\n",
      "a\n",
      "b\n",
      "c\n"
     ]
    }
   ],
   "source": [
    "%time\n",
    "\n",
    "# Try to model using decision trees\n",
    "from sklearn.ensemble import RandomForestRegressor\n",
    "from sklearn.linear_model import LinearRegression, Ridge\n",
    "from sklearn.preprocessing import PolynomialFeatures\n",
    "\n",
    "print('a')\n",
    "# Set up the model and transform the features\n",
    "polynomial_features = PolynomialFeatures(degree=1)\n",
    "x_poly_train = polynomial_features.fit_transform(xx_train)\n",
    "x_poly_valid = polynomial_features.fit_transform(xx_valid)\n",
    "x_poly_test = polynomial_features.fit_transform(xx_test)\n",
    "print('b')\n",
    "# Fit the model using the training data\n",
    "model = RandomForestRegressor(n_estimators=10, max_depth=2)\n",
    "model.fit(x_poly_train, yy_train)\n",
    "print('c')\n",
    "# Run the model on the validation set and see the score\n",
    "yhat_valid = W_valid + model.predict(x_poly_valid)[np.newaxis,:]\n",
    "yhat_valid = np.maximum(0, yhat_valid)\n",
    "print('d')\n",
    "res = rmse( yhat_valid, W_valid + yy_valid)\n",
    "print('e')\n",
    "print( 'Degree {}: RMSE {}'.format(d+1, res ) )\n",
    "\n",
    "# Make a forecast using the test data\n",
    "yhat_test = W_test + model.predict(x_poly_test)[np.newaxis,:]\n",
    "yhat_test = np.maximum(0, yhat_test)\n",
    "\n",
    "# Format the forecast as a Pandas Series and write the output to .csv\n",
    "fcst = pd.Series( yhat_test.ravel(), index=pd.Index(Z.columns) )\n",
    "output = format_forecast( test.ID, fcst )\n",
    "\n",
    "# Make sure all values that have been 0 for the past 2 observations are predicted to be 0\n",
    "idx = ( 0.1 > Z.iloc[-2:-1,:].sum() )\n",
    "output[idx.index] = 0\n",
    "\n",
    "output.to_csv( 'forecast_7.csv', index=True, header=True )"
   ]
  },
  {
   "cell_type": "code",
   "execution_count": 2,
   "metadata": {},
   "outputs": [],
   "source": [
    "import pandas as pd\n",
    "import numpy as np"
   ]
  },
  {
   "cell_type": "code",
   "execution_count": 4,
   "metadata": {},
   "outputs": [
    {
     "name": "stdout",
     "output_type": "stream",
     "text": [
      "File Not found\n"
     ]
    }
   ],
   "source": []
  },
  {
   "cell_type": "code",
   "execution_count": null,
   "metadata": {},
   "outputs": [],
   "source": []
  }
 ],
 "metadata": {
  "kernelspec": {
   "display_name": "Python (python37)",
   "language": "python",
   "name": "python37"
  },
  "language_info": {
   "codemirror_mode": {
    "name": "ipython",
    "version": 3
   },
   "file_extension": ".py",
   "mimetype": "text/x-python",
   "name": "python",
   "nbconvert_exporter": "python",
   "pygments_lexer": "ipython3",
   "version": "3.7.3"
  }
 },
 "nbformat": 4,
 "nbformat_minor": 2
}
