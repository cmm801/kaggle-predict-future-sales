{
 "cells": [
  {
   "cell_type": "code",
   "execution_count": 1,
   "metadata": {},
   "outputs": [],
   "source": [
    "import numpy as np\n",
    "import pandas as pd\n",
    "import random as rd\n",
    "import datetime\n",
    "\n",
    "import matplotlib.pyplot as plt\n",
    "import seaborn as sns\n",
    "\n",
    "import scipy.sparse.csr\n",
    "\n",
    "from sklearn.preprocessing import LabelBinarizer\n",
    "from sklearn.linear_model import LinearRegression, Ridge\n",
    "\n",
    "import importlib\n",
    "import kaggle_forecast \n",
    "importlib.reload( kaggle_forecast )\n",
    "\n",
    "from kaggle_forecast import *"
   ]
  },
  {
   "cell_type": "code",
   "execution_count": 2,
   "metadata": {},
   "outputs": [],
   "source": [
    "kg = KaggleData()"
   ]
  },
  {
   "cell_type": "code",
   "execution_count": 27,
   "metadata": {},
   "outputs": [],
   "source": [
    "X, Y = get_labels_and_features(kg)"
   ]
  },
  {
   "cell_type": "code",
   "execution_count": 28,
   "metadata": {},
   "outputs": [],
   "source": [
    "# Get the combined features in matrix form for the train, validation and test sets\n",
    "xx_raw, yy = combine_features( X, Y )"
   ]
  },
  {
   "cell_type": "code",
   "execution_count": 29,
   "metadata": {},
   "outputs": [],
   "source": [
    "# Preprocess the features (e.g. winsorize, clip values, etc.)\n",
    "xx = preprocess_features(xx_raw)"
   ]
  },
  {
   "cell_type": "code",
   "execution_count": 30,
   "metadata": {},
   "outputs": [],
   "source": [
    "# Convert features to sparse matrices\n",
    "xx_sparse = convert_to_sparse( xx )"
   ]
  },
  {
   "cell_type": "code",
   "execution_count": 32,
   "metadata": {},
   "outputs": [],
   "source": [
    "# Use one-hot encodings for categorical variables\n",
    "\n",
    "# Replace shop_id with one-hot encodings\n",
    "xx_sparse = add_one_hot_encoding( xx_sparse, \"shop_id\", binarizer=kg.binarizer['shop'] )\n",
    "\n",
    "# Replace category_id with one-hot encodings\n",
    "xx_sparse = add_one_hot_encoding( xx_sparse, \"cat_id\", binarizer=kg.binarizer['cat'] )\n",
    "\n",
    "# Replace month with one-hot encodings\n",
    "xx_sparse = add_one_hot_encoding( xx_sparse, \"month\", binarizer=kg.binarizer['month'] )"
   ]
  },
  {
   "cell_type": "code",
   "execution_count": null,
   "metadata": {},
   "outputs": [],
   "source": [
    "# Linear Regression\n",
    "model_constructor_fun = lambda : LinearRegression()\n",
    "forecast_sklearn( model_constructor_fun, kg, xx_sparse, yy, 'linreg_02.csv' )"
   ]
  },
  {
   "cell_type": "code",
   "execution_count": null,
   "metadata": {},
   "outputs": [],
   "source": [
    "# Ridge Regression\n",
    "model_constructor_fun = lambda : Ridge(alpha=0.2, normalize=True)\n",
    "forecast_sklearn( model_constructor_fun, kg, xx_sparse, yy, 'ridge_03.csv', date_block_cutoff=32 )"
   ]
  },
  {
   "cell_type": "code",
   "execution_count": 34,
   "metadata": {},
   "outputs": [],
   "source": [
    "ms = kg.monthly_shop_item"
   ]
  },
  {
   "cell_type": "code",
   "execution_count": 249,
   "metadata": {},
   "outputs": [],
   "source": [
    "def calc_group_correlations( df, group_name, header_name ):\n",
    "\n",
    "    group_ids = np.sort(df[group_name].unique())\n",
    "    corr = []\n",
    "    cnt = []\n",
    "    for j, uid in enumerate(group_ids):\n",
    "        if group_name == 'item_id':\n",
    "            if j % 1000 == 0:\n",
    "                print(j)\n",
    "        elif j % 10 == 0:\n",
    "            print(j)\n",
    "            \n",
    "        df_j = df.loc[ df[group_name] == uid, : ]\n",
    "        ts_j = create_pivot_ts( df_j, header_name, 'item_cnt_month', 'sum', 'zero' )\n",
    "        cnt.append(ts_j.shape[1])        \n",
    "        if ts_j.shape[0] > 1:\n",
    "            corr.append( np.nanmedian( ts_j.corr().to_numpy() - np.eye(cnt[j]) ) )\n",
    "        else:\n",
    "            corr.append(0)\n",
    "    \n",
    "    return corr, cnt\n"
   ]
  },
  {
   "cell_type": "code",
   "execution_count": 258,
   "metadata": {},
   "outputs": [
    {
     "name": "stdout",
     "output_type": "stream",
     "text": [
      "0\n",
      "10\n",
      "20\n",
      "30\n",
      "40\n",
      "50\n"
     ]
    }
   ],
   "source": [
    "shop_corr, shop_count = calc_group_correlations( kg.monthly_shop_item, \\\n",
    "                                group_name='shop_id', header_name='item_id' )"
   ]
  },
  {
   "cell_type": "code",
   "execution_count": 250,
   "metadata": {},
   "outputs": [
    {
     "name": "stdout",
     "output_type": "stream",
     "text": [
      "0\n",
      "10\n",
      "20\n",
      "30\n",
      "40\n",
      "50\n",
      "60\n",
      "70\n",
      "80\n"
     ]
    }
   ],
   "source": [
    "cat_corr, cat_count = calc_group_correlations( kg.monthly_shop_item, \\\n",
    "                                group_name='item_category_id', header_name='item_id' )"
   ]
  },
  {
   "cell_type": "code",
   "execution_count": 252,
   "metadata": {},
   "outputs": [
    {
     "name": "stdout",
     "output_type": "stream",
     "text": [
      "0\n",
      "100\n",
      "200\n",
      "300\n",
      "400\n",
      "500\n",
      "600\n",
      "700\n",
      "800\n",
      "900\n",
      "1000\n",
      "1100\n",
      "1200\n",
      "1300\n",
      "1400\n",
      "1500\n",
      "1600\n",
      "1700\n",
      "1800\n",
      "1900\n",
      "2000\n",
      "2100\n",
      "2200\n",
      "2300\n",
      "2400\n",
      "2500\n",
      "2600\n",
      "2700\n",
      "2800\n",
      "2900\n",
      "3000\n",
      "3100\n",
      "3200\n",
      "3300\n",
      "3400\n",
      "3500\n",
      "3600\n",
      "3700\n",
      "3800\n",
      "3900\n",
      "4000\n",
      "4100\n",
      "4200\n",
      "4300\n",
      "4400\n",
      "4500\n",
      "4600\n",
      "4700\n",
      "4800\n",
      "4900\n",
      "5000\n",
      "5100\n",
      "5200\n",
      "5300\n",
      "5400\n",
      "5500\n",
      "5600\n",
      "5700\n",
      "5800\n",
      "5900\n",
      "6000\n",
      "6100\n",
      "6200\n",
      "6300\n",
      "6400\n",
      "6500\n",
      "6600\n",
      "6700\n",
      "6800\n",
      "6900\n",
      "7000\n",
      "7100\n",
      "7200\n",
      "7300\n",
      "7400\n",
      "7500\n",
      "7600\n",
      "7700\n",
      "7800\n",
      "7900\n",
      "8000\n",
      "8100\n",
      "8200\n",
      "8300\n",
      "8400\n",
      "8500\n",
      "8600\n",
      "8700\n",
      "8800\n",
      "8900\n",
      "9000\n",
      "9100\n",
      "9200\n",
      "9300\n",
      "9400\n",
      "9500\n",
      "9600\n",
      "9700\n",
      "9800\n",
      "9900\n",
      "10000\n",
      "10100\n",
      "10200\n",
      "10300\n",
      "10400\n",
      "10500\n",
      "10600\n",
      "10700\n",
      "10800\n",
      "10900\n",
      "11000\n",
      "11100\n",
      "11200\n",
      "11300\n",
      "11400\n",
      "11500\n",
      "11600\n",
      "11700\n",
      "11800\n",
      "11900\n",
      "12000\n",
      "12100\n",
      "12200\n",
      "12300\n",
      "12400\n",
      "12500\n",
      "12600\n",
      "12700\n",
      "12800\n",
      "12900\n",
      "13000\n",
      "13100\n",
      "13200\n",
      "13300\n",
      "13400\n",
      "13500\n",
      "13600\n",
      "13700\n",
      "13800\n",
      "13900\n",
      "14000\n",
      "14100\n",
      "14200\n",
      "14300\n",
      "14400\n",
      "14500\n",
      "14600\n",
      "14700\n",
      "14800\n",
      "14900\n",
      "15000\n",
      "15100\n",
      "15200\n",
      "15300\n",
      "15400\n",
      "15500\n",
      "15600\n",
      "15700\n",
      "15800\n",
      "15900\n",
      "16000\n",
      "16100\n",
      "16200\n",
      "16300\n",
      "16400\n",
      "16500\n",
      "16600\n",
      "16700\n",
      "16800\n",
      "16900\n",
      "17000\n",
      "17100\n",
      "17200\n",
      "17300\n",
      "17400\n",
      "17500\n",
      "17600\n",
      "17700\n",
      "17800\n",
      "17900\n",
      "18000\n",
      "18100\n",
      "18200\n",
      "18300\n",
      "18400\n",
      "18500\n",
      "18600\n",
      "18700\n",
      "18800\n",
      "18900\n",
      "19000\n",
      "19100\n",
      "19200\n",
      "19300\n",
      "19400\n",
      "19500\n",
      "19600\n",
      "19700\n",
      "19800\n",
      "19900\n",
      "20000\n",
      "20100\n",
      "20200\n",
      "20300\n",
      "20400\n",
      "20500\n",
      "20600\n",
      "20700\n",
      "20800\n",
      "20900\n",
      "21000\n",
      "21100\n",
      "21200\n",
      "21300\n",
      "21400\n",
      "21500\n",
      "21600\n",
      "21700\n",
      "21800\n"
     ]
    }
   ],
   "source": [
    "item_corr, item_count = calc_group_correlations( kg.monthly_shop_item, \\\n",
    "                                group_name='item_id', header_name='shop_id' )"
   ]
  },
  {
   "cell_type": "code",
   "execution_count": 257,
   "metadata": {},
   "outputs": [
    {
     "name": "stdout",
     "output_type": "stream",
     "text": [
      "0.017458122481488474\n",
      "7453.0\n"
     ]
    },
    {
     "data": {
      "image/png": "[encoded data removed]",
      "text/plain": [
       "<Figure size 432x288 with 1 Axes>"
      ]
     },
     "metadata": {
      "needs_background": "light"
     },
     "output_type": "display_data"
    }
   ],
   "source": [
    "IC = np.array(shop_count)\n",
    "IR = np.array(shop_corr)\n",
    "\n",
    "A = plt.hist( IR[IC > 1 ], bins=50 )\n",
    "midpoints = 0.5 * A[1][1:] + 0.5 * A[1][:-1]\n",
    "print(np.dot( midpoints, A[0]) / A[0].sum())\n",
    "print(np.median(shop_count))"
   ]
  },
  {
   "cell_type": "code",
   "execution_count": 256,
   "metadata": {},
   "outputs": [
    {
     "name": "stdout",
     "output_type": "stream",
     "text": [
      "0.035633210795295966\n",
      "42.0\n"
     ]
    },
    {
     "data": {
      "image/png": "[encoded data removed]",
      "text/plain": [
       "<Figure size 432x288 with 1 Axes>"
      ]
     },
     "metadata": {
      "needs_background": "light"
     },
     "output_type": "display_data"
    }
   ],
   "source": [
    "IC = np.array(cat_count)\n",
    "IR = np.array(cat_corr)\n",
    "\n",
    "A = plt.hist( IR[IC > 1 ], bins=50 )\n",
    "midpoints = 0.5 * A[1][1:] + 0.5 * A[1][:-1]\n",
    "print(np.dot( midpoints, A[0]) / A[0].sum())\n",
    "print(np.median(cat_count))"
   ]
  },
  {
   "cell_type": "code",
   "execution_count": 255,
   "metadata": {},
   "outputs": [
    {
     "name": "stdout",
     "output_type": "stream",
     "text": [
      "0.00654267457781822\n",
      "15.0\n"
     ]
    },
    {
     "data": {
      "image/png": "[encoded data removed]",
      "text/plain": [
       "<Figure size 432x288 with 1 Axes>"
      ]
     },
     "metadata": {
      "needs_background": "light"
     },
     "output_type": "display_data"
    }
   ],
   "source": [
    "IC = np.array(item_count)\n",
    "IR = np.array(item_corr)\n",
    "\n",
    "A = plt.hist( IR[IC > 1 ], bins=50 )\n",
    "midpoints = 0.5 * A[1][1:] + 0.5 * A[1][:-1]\n",
    "print(np.dot( midpoints, A[0]) / A[0].sum())\n",
    "print(np.median(item_count))"
   ]
  },
  {
   "cell_type": "code",
   "execution_count": 446,
   "metadata": {},
   "outputs": [
    {
     "data": {
      "text/plain": [
       "KMeans(algorithm='auto', copy_x=True, init='k-means++', max_iter=300,\n",
       "    n_clusters=20, n_init=10, n_jobs=None, precompute_distances='auto',\n",
       "    random_state=None, tol=0.0001, verbose=0)"
      ]
     },
     "execution_count": 446,
     "metadata": {},
     "output_type": "execute_result"
    }
   ],
   "source": [
    "n_clusters = 20\n",
    "eval_lags = [ 1, 2, 3, 6, 9, 12 ]\n",
    "\n",
    "eval_lags = [ 1, 2, 3, 6, 9, 12 ]\n",
    "train_rows = sorted( -np.array(eval_lags) - 1 )\n",
    "valid_rows = -1\n",
    "all_rows = train_rows + [valid_rows]\n",
    "ts_full = kg.ts['sales'].iloc[all_rows].to_numpy()\n",
    "ts_train = kg.ts['sales'].iloc[:-1].to_numpy()\n",
    "\n",
    "mu = np.nanmean( ts_train, axis=0 )\n",
    "sigma = np.nanstd( ts_train, axis=0 )\n",
    "\n",
    "# Don't divide by zero for constant series\n",
    "sigma[sigma==0] = 1\n",
    "ts_norm = ( ts_full - mu ) / sigma\n",
    "\n",
    "# Fit the model\n",
    "model = KMeans( n_clusters=n_clusters )\n",
    "model.fit( ts_norm[:-1,:].T )"
   ]
  },
  {
   "cell_type": "code",
   "execution_count": 447,
   "metadata": {},
   "outputs": [
    {
     "data": {
      "text/plain": [
       "(array([100063.,   7715.,   9698.,  12064.,  12095., 229567.,  25138.,\n",
       "          7595.,  14131.,   6058.]),\n",
       " array([ 0. ,  1.9,  3.8,  5.7,  7.6,  9.5, 11.4, 13.3, 15.2, 17.1, 19. ]),\n",
       " <a list of 10 Patch objects>)"
      ]
     },
     "execution_count": 447,
     "metadata": {},
     "output_type": "execute_result"
    },
    {
     "data": {
      "image/png": "[encoded data removed]",
      "text/plain": [
       "<Figure size 432x288 with 1 Axes>"
      ]
     },
     "metadata": {
      "needs_background": "light"
     },
     "output_type": "display_data"
    }
   ],
   "source": [
    "plt.hist( model.labels_ )"
   ]
  },
  {
   "cell_type": "code",
   "execution_count": 448,
   "metadata": {},
   "outputs": [
    {
     "data": {
      "text/plain": [
       "[<matplotlib.lines.Line2D at 0x1a398ed278>]"
      ]
     },
     "execution_count": 448,
     "metadata": {},
     "output_type": "execute_result"
    },
    {
     "data": {
      "image/png": "[encoded data removed]",
      "text/plain": [
       "<Figure size 1008x360 with 2 Axes>"
      ]
     },
     "metadata": {
      "needs_background": "light"
     },
     "output_type": "display_data"
    }
   ],
   "source": [
    "tmp = ts_full[:,model.labels_ == 0 ]\n",
    "\n",
    "fig = plt.figure(figsize=(14,5))\n",
    "plt.subplot(1,2,1)\n",
    "plt.plot( tmp[:,:20] )\n",
    "plt.subplot(1,2,2)\n",
    "plt.plot( np.mean( tmp, axis=1 ) )"
   ]
  },
  {
   "cell_type": "code",
   "execution_count": 454,
   "metadata": {},
   "outputs": [],
   "source": [
    "def box_plot( model, ts_norm, col ):\n",
    "    f = ts_norm[:,model.labels_ == col ].T\n",
    "    mins = f.min(axis=0)\n",
    "    maxes = f.max(axis=0)\n",
    "    means = f.mean(axis=0)\n",
    "    q_low = np.quantile(f, 0.01, axis=0 )\n",
    "    q_high = np.quantile(f, 0.99, axis=0 )\n",
    "    std = f.std(axis=0)\n",
    "\n",
    "    # create stacked errorbars:\n",
    "    L = ts_norm.shape[0]\n",
    "    plt.errorbar(np.arange(L), means, [means - mins, maxes - means],\n",
    "                 fmt='.k', ecolor='red', lw=1)\n",
    "    plt.errorbar(np.arange(L), means, [means - q_low, q_high - means],\n",
    "                 fmt='.k', ecolor='blue', lw=6)\n",
    "    plt.errorbar(np.arange(L), means, std, fmt='ok', lw=20)\n"
   ]
  },
  {
   "cell_type": "code",
   "execution_count": 483,
   "metadata": {},
   "outputs": [
    {
     "data": {
      "text/plain": [
       "(-10, 10)"
      ]
     },
     "execution_count": 483,
     "metadata": {},
     "output_type": "execute_result"
    },
    {
     "data": {
      "image/png": "[encoded data removed]",
      "text/plain": [
       "<Figure size 432x288 with 1 Axes>"
      ]
     },
     "metadata": {
      "needs_background": "light"
     },
     "output_type": "display_data"
    }
   ],
   "source": [
    "box_plot( model, ts_norm, col=19 )\n",
    "plt.ylim(-10,10)"
   ]
  },
  {
   "cell_type": "code",
   "execution_count": 17,
   "metadata": {},
   "outputs": [],
   "source": [
    "def unnormalize( y_norm, mu, sigma ):\n",
    "    \n",
    "    y = y_norm * sigma + mu\n",
    "    return(y)\n",
    "\n",
    "def normalize( y, mu, sigma ):\n",
    "    \n",
    "    y_norm = ( y - mu ) / sigma\n",
    "    return(y_norm)"
   ]
  },
  {
   "cell_type": "code",
   "execution_count": 25,
   "metadata": {},
   "outputs": [
    {
     "data": {
      "text/plain": [
       "KNeighborsRegressor(algorithm='auto', leaf_size=30, metric='minkowski',\n",
       "          metric_params=None, n_jobs=None, n_neighbors=5, p=2,\n",
       "          weights='distance')"
      ]
     },
     "execution_count": 25,
     "metadata": {},
     "output_type": "execute_result"
    }
   ],
   "source": [
    "from sklearn.neighbors import KNeighborsRegressor\n",
    "\n",
    "n_neighbors = 5\n",
    "metric = 'distance'  # Must be one of 'uniform' or 'distance'\n",
    "eval_lags = [ 1, 2, 3, 6, 9, 12 ]\n",
    "\n",
    "train_rows = sorted( -np.array(eval_lags) - 1 )\n",
    "test_rows = sorted( -np.array(eval_lags) )\n",
    "valid_rows = -1\n",
    "all_rows = train_rows + [valid_rows]\n",
    "\n",
    "ts_full = kg.ts['sales'].iloc[all_rows].to_numpy()\n",
    "ts_train = ts_full[:-1]\n",
    "y_train = ts_full[-1]\n",
    "\n",
    "ts_test = kg.ts['sales'].iloc[test_rows].to_numpy()\n",
    "\n",
    "mu = np.nanmean( ts_train, axis=0 )\n",
    "sigma = np.nanstd( ts_train, axis=0 )\n",
    "\n",
    "# Don't divide by zero for constant series\n",
    "sigma[sigma==0] = 1\n",
    "ts_full_norm = normalize( ts_full, mu, sigma )\n",
    "ts_train_norm = normalize( ts_train, mu, sigma )\n",
    "ts_test_norm = normalize( ts_test, mu, sigma )\n",
    "\n",
    "y_train_norm = ts_full_norm[-1]\n",
    "\n",
    "# Fit the model\n",
    "model = KNeighborsRegressor(n_neighbors=n_neighbors, weights=metric )\n",
    "model.fit( ts_train_norm.T, y_train_norm )\n"
   ]
  },
  {
   "cell_type": "code",
   "execution_count": 26,
   "metadata": {},
   "outputs": [],
   "source": [
    "yhat_train_norm = model.predict( ts_train_norm.T )"
   ]
  },
  {
   "cell_type": "code",
   "execution_count": 29,
   "metadata": {},
   "outputs": [
    {
     "data": {
      "text/plain": [
       "1.2944200798178103"
      ]
     },
     "execution_count": 29,
     "metadata": {},
     "output_type": "execute_result"
    }
   ],
   "source": [
    "yhat_train = unnormalize( yhat_train_norm, mu, sigma )\n",
    "rmse( yhat_train, y_train )"
   ]
  },
  {
   "cell_type": "code",
   "execution_count": 31,
   "metadata": {},
   "outputs": [],
   "source": [
    "yhat_test_norm = model.predict( ts_test_norm.T )"
   ]
  },
  {
   "cell_type": "code",
   "execution_count": 59,
   "metadata": {},
   "outputs": [],
   "source": [
    "\n",
    "yhat_test = unnormalize( yhat_test_norm, mu, sigma )\n",
    "yhat_test = np.maximum( yhat_test, 0 )\n",
    "yhat_test = np.minimum( yhat_test, 20 )\n",
    "\n",
    "# Format the forecast as a Pandas Series and write the output to .csv\n",
    "fcst = pd.Series( yhat_test.ravel(), index=pd.Index( kg.ts['sales'].columns ) )\n",
    "output = format_forecast( kg.csv['test'], fcst )\n",
    "\n",
    "output.to_csv( '../forecasts/knn_02.csv', index=False, header=True )"
   ]
  },
  {
   "cell_type": "code",
   "execution_count": 54,
   "metadata": {},
   "outputs": [],
   "source": [
    "# Format the forecast as a Pandas Series and write the output to .csv\n",
    "y_prev = pd.Series( ts_test[-1].ravel(), index=pd.Index( kg.ts['sales'].columns ) )\n",
    "previous_values = format_forecast( kg.csv['test'], y_prev )"
   ]
  },
  {
   "cell_type": "code",
   "execution_count": 80,
   "metadata": {},
   "outputs": [
    {
     "data": {
      "text/plain": [
       "KMeans(algorithm='auto', copy_x=True, init='k-means++', max_iter=300,\n",
       "    n_clusters=20, n_init=10, n_jobs=None, precompute_distances='auto',\n",
       "    random_state=None, tol=0.0001, verbose=0)"
      ]
     },
     "execution_count": 80,
     "metadata": {},
     "output_type": "execute_result"
    }
   ],
   "source": [
    "from sklearn.cluster import KMeans\n",
    "\n",
    "n_clusters = 20\n",
    "eval_lags = [ 1, 2, 3, 6, 9, 12 ]\n",
    "\n",
    "train_rows = sorted( -np.array(eval_lags) - 1 )\n",
    "test_rows = sorted( -np.array(eval_lags) )\n",
    "valid_rows = -1\n",
    "all_rows = train_rows + [valid_rows]\n",
    "\n",
    "x_full = kg.ts['sales'].iloc[all_rows].to_numpy()\n",
    "x_train = x_full[:-1]\n",
    "y_train = x_full[-1]\n",
    "\n",
    "x_test = kg.ts['sales'].iloc[test_rows].to_numpy()\n",
    "\n",
    "mu = np.nanmean( x_train, axis=0 )\n",
    "sigma = np.nanstd( x_train, axis=0 )\n",
    "\n",
    "# Don't divide by zero for constant series\n",
    "sigma[sigma==0] = 1\n",
    "x_full_norm = normalize( x_full, mu, sigma )\n",
    "x_train_norm = normalize( x_train, mu, sigma )\n",
    "x_test_norm = normalize( x_test, mu, sigma )\n",
    "\n",
    "y_train_norm = x_full_norm[-1]\n",
    "\n",
    "# Fit the model\n",
    "model = KMeans( n_clusters=n_clusters )\n",
    "model.fit( x_train_norm.T )"
   ]
  },
  {
   "cell_type": "code",
   "execution_count": 89,
   "metadata": {},
   "outputs": [],
   "source": [
    "test_labels = model.predict(x_test_norm.T)"
   ]
  },
  {
   "cell_type": "code",
   "execution_count": 90,
   "metadata": {},
   "outputs": [],
   "source": [
    "test_labels_mean = [ np.mean( y_train_norm[ test_labels == p ]) for p in range(n_clusters) ]"
   ]
  },
  {
   "cell_type": "code",
   "execution_count": 96,
   "metadata": {},
   "outputs": [],
   "source": [
    "yhat_test_norm = [ test_labels_mean[x] for x in test_labels ]"
   ]
  },
  {
   "cell_type": "code",
   "execution_count": 98,
   "metadata": {},
   "outputs": [],
   "source": [
    "yhat_test = unnormalize( yhat_test_norm, mu, sigma )\n",
    "yhat_test = np.maximum( yhat_test, 0 )\n",
    "yhat_test = np.minimum( yhat_test, 20 )\n",
    "\n",
    "# Format the forecast as a Pandas Series and write the output to .csv\n",
    "fcst = pd.Series( yhat_test.ravel(), index=pd.Index( kg.ts['sales'].columns ) )\n",
    "output = format_forecast( kg.csv['test'], fcst )\n",
    "\n",
    "output.to_csv( '../forecasts/kmeans_01.csv', index=False, header=True )\n"
   ]
  },
  {
   "cell_type": "code",
   "execution_count": 184,
   "metadata": {},
   "outputs": [],
   "source": [
    "import importlib\n",
    "import kaggle_forecast \n",
    "importlib.reload( kaggle_forecast )\n",
    "\n",
    "from kaggle_forecast import *"
   ]
  },
  {
   "cell_type": "code",
   "execution_count": 5,
   "metadata": {},
   "outputs": [],
   "source": []
  },
  {
   "cell_type": "code",
   "execution_count": 6,
   "metadata": {},
   "outputs": [
    {
     "ename": "NameError",
     "evalue": "name 'kg' is not defined",
     "output_type": "error",
     "traceback": [
      "\u001b[0;31m---------------------------------------------------------------------------\u001b[0m",
      "\u001b[0;31mNameError\u001b[0m                                 Traceback (most recent call last)",
      "\u001b[0;32m<ipython-input-6-5485654cb54f>\u001b[0m in \u001b[0;36m<module>\u001b[0;34m\u001b[0m\n\u001b[1;32m      3\u001b[0m \u001b[0meval_lags\u001b[0m \u001b[0;34m=\u001b[0m \u001b[0;34m[\u001b[0m \u001b[0;36m1\u001b[0m\u001b[0;34m,\u001b[0m \u001b[0;36m2\u001b[0m\u001b[0;34m,\u001b[0m \u001b[0;36m3\u001b[0m\u001b[0;34m,\u001b[0m \u001b[0;36m6\u001b[0m\u001b[0;34m,\u001b[0m \u001b[0;36m9\u001b[0m\u001b[0;34m,\u001b[0m \u001b[0;36m12\u001b[0m \u001b[0;34m]\u001b[0m\u001b[0;34m\u001b[0m\u001b[0;34m\u001b[0m\u001b[0m\n\u001b[1;32m      4\u001b[0m \u001b[0;34m\u001b[0m\u001b[0m\n\u001b[0;32m----> 5\u001b[0;31m kmr = KMeansRegression( kg, n_clusters=n_clusters, \\\n\u001b[0m\u001b[1;32m      6\u001b[0m                        eval_lags=eval_lags, date_block_cutoff=date_block_cutoff )\n",
      "\u001b[0;31mNameError\u001b[0m: name 'kg' is not defined"
     ]
    }
   ],
   "source": []
  },
  {
   "cell_type": "code",
   "execution_count": 3,
   "metadata": {},
   "outputs": [
    {
     "ename": "NameError",
     "evalue": "name 'kmr' is not defined",
     "output_type": "error",
     "traceback": [
      "\u001b[0;31m---------------------------------------------------------------------------\u001b[0m",
      "\u001b[0;31mNameError\u001b[0m                                 Traceback (most recent call last)",
      "\u001b[0;32m<ipython-input-3-ebca246f6105>\u001b[0m in \u001b[0;36m<module>\u001b[0;34m\u001b[0m\n\u001b[0;32m----> 1\u001b[0;31m \u001b[0mkmr\u001b[0m\u001b[0;34m.\u001b[0m\u001b[0mfit_train\u001b[0m\u001b[0;34m(\u001b[0m\u001b[0;34m)\u001b[0m\u001b[0;34m\u001b[0m\u001b[0;34m\u001b[0m\u001b[0m\n\u001b[0m\u001b[1;32m      2\u001b[0m \u001b[0;34m\u001b[0m\u001b[0m\n\u001b[1;32m      3\u001b[0m \u001b[0mkmr\u001b[0m\u001b[0;34m.\u001b[0m\u001b[0mpredict_train_and_validation\u001b[0m\u001b[0;34m(\u001b[0m\u001b[0;34m)\u001b[0m\u001b[0;34m\u001b[0m\u001b[0;34m\u001b[0m\u001b[0m\n\u001b[1;32m      4\u001b[0m \u001b[0;34m\u001b[0m\u001b[0m\n\u001b[1;32m      5\u001b[0m \u001b[0mprint\u001b[0m\u001b[0;34m(\u001b[0m \u001b[0;34m'Validation RMSE: {}'\u001b[0m\u001b[0;34m.\u001b[0m\u001b[0mformat\u001b[0m\u001b[0;34m(\u001b[0m \u001b[0mrmse\u001b[0m\u001b[0;34m(\u001b[0m \u001b[0mkmr\u001b[0m\u001b[0;34m.\u001b[0m\u001b[0mY_valid\u001b[0m\u001b[0;34m,\u001b[0m \u001b[0mkmr\u001b[0m\u001b[0;34m.\u001b[0m\u001b[0myhat_valid\u001b[0m \u001b[0;34m)\u001b[0m \u001b[0;34m)\u001b[0m \u001b[0;34m)\u001b[0m\u001b[0;34m\u001b[0m\u001b[0;34m\u001b[0m\u001b[0m\n",
      "\u001b[0;31mNameError\u001b[0m: name 'kmr' is not defined"
     ]
    }
   ],
   "source": []
  },
  {
   "cell_type": "code",
   "execution_count": 180,
   "metadata": {},
   "outputs": [
    {
     "data": {
      "text/plain": [
       "array([0.        , 0.        , 0.07545486, ..., 0.        , 0.        ,\n",
       "       0.        ])"
      ]
     },
     "execution_count": 180,
     "metadata": {},
     "output_type": "execute_result"
    }
   ],
   "source": [
    "\n"
   ]
  },
  {
   "cell_type": "code",
   "execution_count": 2,
   "metadata": {},
   "outputs": [
    {
     "ename": "NameError",
     "evalue": "name 'kmr' is not defined",
     "output_type": "error",
     "traceback": [
      "\u001b[0;31m---------------------------------------------------------------------------\u001b[0m",
      "\u001b[0;31mNameError\u001b[0m                                 Traceback (most recent call last)",
      "\u001b[0;32m<ipython-input-2-dcc1ce32e58e>\u001b[0m in \u001b[0;36m<module>\u001b[0;34m\u001b[0m\n\u001b[0;32m----> 1\u001b[0;31m \u001b[0mkmr\u001b[0m\u001b[0;34m\u001b[0m\u001b[0;34m\u001b[0m\u001b[0m\n\u001b[0m",
      "\u001b[0;31mNameError\u001b[0m: name 'kmr' is not defined"
     ]
    }
   ],
   "source": [
    "kmr"
   ]
  },
  {
   "cell_type": "code",
   "execution_count": 41,
   "metadata": {},
   "outputs": [
    {
     "data": {
      "text/plain": [
       "0"
      ]
     },
     "execution_count": 41,
     "metadata": {},
     "output_type": "execute_result"
    }
   ],
   "source": [
    "data_type = TRAIN\n",
    "date_nums = kmr.xx[data_type][:,idx_db_col]\n",
    "\n",
    "idx = [ r > kmr.date_block_cutoff for r in date_nums ]\n"
   ]
  },
  {
   "cell_type": "code",
   "execution_count": 59,
   "metadata": {},
   "outputs": [],
   "source": [
    "kmr.xx[TRAIN].sum?"
   ]
  },
  {
   "cell_type": "code",
   "execution_count": 60,
   "metadata": {},
   "outputs": [],
   "source": []
  },
  {
   "cell_type": "code",
   "execution_count": 197,
   "metadata": {},
   "outputs": [],
   "source": [
    "\n",
    "# Get the existing data sets\n",
    "date_nums = self.xx[data_type][:,idx_db_col]\n",
    "xx_input = np.hstack( [ self.xx[data_type][:,:idx_db_col], \\\n",
    "                        self.xx[data_type][:,idx_db_col+1:] ] )\n",
    "yy_input = self.yy[data_type].copy()\n",
    "\n",
    "# Exclude date blocks before the cutoff\n",
    "if date_block_cutoff > 0:\n",
    "    # Find the rows that are greater than thte lower date cutoff\n",
    "    idx = [ r > self.date_block_cutoff for r in date_nums ]\n",
    "    xx_output = xx_input[idx,:]\n",
    "    yy_output = xx_input[idx,:]\n",
    "else:\n",
    "    # No need to make copies if we are not removing rows\n",
    "    xx_output = xx_input\n",
    "    yy_output = yy_input     "
   ]
  },
  {
   "cell_type": "code",
   "execution_count": null,
   "metadata": {},
   "outputs": [],
   "source": [
    "np.all( xx[VALID][:,0] == yy[TRAIN] )"
   ]
  },
  {
   "cell_type": "code",
   "execution_count": null,
   "metadata": {},
   "outputs": [],
   "source": []
  }
 ],
 "metadata": {
  "kernelspec": {
   "display_name": "Python (python37)",
   "language": "python",
   "name": "python37"
  },
  "language_info": {
   "codemirror_mode": {
    "name": "ipython",
    "version": 3
   },
   "file_extension": ".py",
   "mimetype": "text/x-python",
   "name": "python",
   "nbconvert_exporter": "python",
   "pygments_lexer": "ipython3",
   "version": "3.7.3"
  }
 },
 "nbformat": 4,
 "nbformat_minor": 2
}
